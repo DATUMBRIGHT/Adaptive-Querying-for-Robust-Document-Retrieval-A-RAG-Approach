{
 "cells": [
  {
   "cell_type": "code",
   "execution_count": 1,
   "metadata": {},
   "outputs": [
    {
     "name": "stderr",
     "output_type": "stream",
     "text": [
      "/Users/brighttenkorangofori/Desktop/RAG/chroma-exp/lib/python3.9/site-packages/urllib3/__init__.py:35: NotOpenSSLWarning: urllib3 v2 only supports OpenSSL 1.1.1+, currently the 'ssl' module is compiled with 'LibreSSL 2.8.3'. See: https://github.com/urllib3/urllib3/issues/3020\n",
      "  warnings.warn(\n"
     ]
    }
   ],
   "source": [
    "import dotenv \n",
    "import chromadb\n",
    "from openai import OpenAI\n",
    "import os \n",
    "from PyPDF2 import PdfReader\n",
    "import os\n",
    "import requests\n",
    "import tqdm\n",
    "import pandas as pd\n",
    "import numpy as np \n",
    "from textwrap3 import wrap\n",
    "import itertools\n"
   ]
  },
  {
   "cell_type": "code",
   "execution_count": 2,
   "metadata": {},
   "outputs": [
    {
     "data": {
      "text/plain": [
       "True"
      ]
     },
     "execution_count": 2,
     "metadata": {},
     "output_type": "execute_result"
    }
   ],
   "source": [
    "from dotenv import load_dotenv\n",
    "load_dotenv()"
   ]
  },
  {
   "cell_type": "code",
   "execution_count": 3,
   "metadata": {},
   "outputs": [],
   "source": [
    "OPENAI_KEY = os.getenv('OPENAI_API_KEY')"
   ]
  },
  {
   "cell_type": "code",
   "execution_count": 4,
   "metadata": {},
   "outputs": [],
   "source": [
    "\n",
    "client = OpenAI(api_key=OPENAI_KEY)"
   ]
  },
  {
   "cell_type": "code",
   "execution_count": 5,
   "metadata": {},
   "outputs": [],
   "source": [
    "def load_file(filepath=None):\n",
    "    \"\"\"function loads file if filepath is found else  downloads it \n",
    "\n",
    "    Args: file_path of document to load \n",
    "    \n",
    "    \n",
    "    Returns: pages_and_content = {'number' : [],\n",
    "                         'text' : [],\n",
    "                          'word_count' : [],\n",
    "                           'sentence_count' : [],\n",
    "                           'token_count' : []}\n",
    "    \n",
    "    \n",
    "    \"\"\"\n",
    "    pages_and_content = {'number' : [],\n",
    "                         'text' : [],\n",
    "                          'word_count' : [],\n",
    "                           'sentence_count' : [],\n",
    "                           'token_count' : []}\n",
    "    \n",
    "    if os.path.isfile(filepath):\n",
    "        print('File found, loading...')\n",
    "        reader = PdfReader(filepath)\n",
    "        for i, page in enumerate(reader.pages):\n",
    "            # page_text = clean_text(page.extract_text())  # Uncomment and use if you have a clean_text function\n",
    "            page_text = str(page.extract_text())\n",
    "            #page_text = shallow_clean(page_text)\n",
    "            word_count = len(page_text.split(' '))\n",
    "            sentence_count = len(page_text.split('.'))\n",
    "            token_count = len(page_text)/4\n",
    "            \n",
    "            pages_and_content['number'].append(i)\n",
    "            pages_and_content['text'].append(str(page_text))\n",
    "            pages_and_content['sentence_count'].append(sentence_count)\n",
    "            pages_and_content['token_count'].append(token_count)\n",
    "            pages_and_content['word_count'].append(word_count)\n",
    "        return pages_and_content\n",
    "    \n",
    "    else: \n",
    "        print('File not available, downloading...')\n",
    "        response = requests.get(filepath,timeout=30)\n",
    "        if response.status_code == 200:\n",
    "            print('File downloaded, saving...')\n",
    "            with open('data.pdf', 'wb') as f:\n",
    "                f.write(response.content)\n",
    "                print('Data saved!')\n",
    "            reader = PdfReader('data.pdf')\n",
    "            for i, page in enumerate(reader.pages):\n",
    "                # page_text = clean_text(page.extract_text())  # Uncomment and use if you have a clean_text function\n",
    "                page_text = str(page.extract_text())\n",
    "                #page_text = shallow_clean(page_text)\n",
    "                word_count = len(page_text.split(' '))\n",
    "                sentence_count = len(page_text.split('.'))\n",
    "                token_count = len(page_text)/4\n",
    "                \n",
    "                pages_and_content['number'].append(i)\n",
    "                pages_and_content['text'].append(str(page_text))\n",
    "                pages_and_content['sentence_count'].append(sentence_count)\n",
    "                pages_and_content['token_count'].append(token_count)\n",
    "                pages_and_content['word_count'].append(word_count)\n",
    "\n",
    "            return pages_and_content \n",
    "        else:\n",
    "            print('Failed to download file')\n",
    "            return None"
   ]
  },
  {
   "cell_type": "code",
   "execution_count": 6,
   "metadata": {},
   "outputs": [],
   "source": [
    "file_path = '/Users/brighttenkorangofori/Downloads/2022_Annual_Report.pdf'"
   ]
  },
  {
   "cell_type": "code",
   "execution_count": 7,
   "metadata": {},
   "outputs": [
    {
     "name": "stdout",
     "output_type": "stream",
     "text": [
      "File found, loading...\n"
     ]
    }
   ],
   "source": [
    "pages_and_content = load_file(file_path)"
   ]
  },
  {
   "cell_type": "code",
   "execution_count": 8,
   "metadata": {},
   "outputs": [],
   "source": [
    "def get_openai_response(user_content,model, temperature,client,system_content = 'you are a helpful assistant'):\n",
    "    messages = [{'role':'system',\n",
    "                'content': system_content},\n",
    "                {'role':'user',\n",
    "                'content': user_content }]\n",
    "    response = client.chat.completions.create(model = model,\n",
    "                                        messages = messages,\n",
    "                                        temperature = temperature)\n",
    "    return response.choices[0].message.content\n"
   ]
  },
  {
   "cell_type": "code",
   "execution_count": 9,
   "metadata": {},
   "outputs": [],
   "source": [
    "response1 = get_openai_response(user_content='how do i learn javascript',\n",
    "                    model = 'gpt-3.5-turbo',\n",
    "                    client = client,\n",
    "                    temperature = 0.6)\n",
    "\n",
    "\n",
    "\n"
   ]
  },
  {
   "cell_type": "code",
   "execution_count": 10,
   "metadata": {},
   "outputs": [
    {
     "data": {
      "text/plain": [
       "'Learning JavaScript can be a rewarding experience! Here are some steps you can take to start learning:\\n\\n1. **Online resources**: There are many online resources available for learning JavaScript, such as tutorials, courses, and documentation. Websites like Codecademy, freeCodeCamp, and Mozilla Developer Network offer free tutorials and courses for beginners.\\n\\n2. **Books**: There are also many books available on JavaScript that can help you learn the language in-depth. Some popular books include \"Eloquent JavaScript\" by Marijn Haverbeke and \"JavaScript: The Good Parts\" by Douglas Crockford.\\n\\n3. **Practice**: The best way to learn JavaScript is by practicing coding. Try to work on small projects or challenges to apply what you have learned and improve your skills.\\n\\n4. **Join a community**: Joining online communities like Stack Overflow, Reddit\\'s r/learnjavascript, or joining local meetups can help you connect with other learners and experienced developers who can provide guidance and support.\\n\\n5. **Build projects**: As you progress in your learning, try to build small projects or websites using JavaScript. This hands-on experience will help you solidify your understanding of the language.\\n\\nRemember, learning JavaScript takes time and practice, so be patient with yourself and keep pushing forward. Good luck!'"
      ]
     },
     "execution_count": 10,
     "metadata": {},
     "output_type": "execute_result"
    }
   ],
   "source": [
    "response1"
   ]
  },
  {
   "cell_type": "code",
   "execution_count": 11,
   "metadata": {},
   "outputs": [],
   "source": [
    "from langchain.text_splitter import RecursiveCharacterTextSplitter\n",
    "text_splitter = RecursiveCharacterTextSplitter(separators=['\\n','.'])\n",
    "doc_chunks = []\n",
    "docs = pages_and_content['text']\n",
    "for page in pages_and_content['text']:\n",
    "        chunks = text_splitter.split_text(page)\n",
    "        doc_chunks.append(chunks)\n",
    "doc_chunks = list(itertools.chain.from_iterable(doc_chunks))\n",
    "    "
   ]
  },
  {
   "cell_type": "code",
   "execution_count": 12,
   "metadata": {},
   "outputs": [],
   "source": [
    "from itertools import chain\n"
   ]
  },
  {
   "cell_type": "code",
   "execution_count": 13,
   "metadata": {},
   "outputs": [
    {
     "data": {
      "text/plain": [
       "115"
      ]
     },
     "execution_count": 13,
     "metadata": {},
     "output_type": "execute_result"
    }
   ],
   "source": [
    "len(doc_chunks)"
   ]
  },
  {
   "cell_type": "code",
   "execution_count": 14,
   "metadata": {},
   "outputs": [
    {
     "data": {
      "text/html": [
       "<div>\n",
       "<style scoped>\n",
       "    .dataframe tbody tr th:only-of-type {\n",
       "        vertical-align: middle;\n",
       "    }\n",
       "\n",
       "    .dataframe tbody tr th {\n",
       "        vertical-align: top;\n",
       "    }\n",
       "\n",
       "    .dataframe thead th {\n",
       "        text-align: right;\n",
       "    }\n",
       "</style>\n",
       "<table border=\"1\" class=\"dataframe\">\n",
       "  <thead>\n",
       "    <tr style=\"text-align: right;\">\n",
       "      <th></th>\n",
       "      <th>number</th>\n",
       "      <th>text</th>\n",
       "      <th>word_count</th>\n",
       "      <th>sentence_count</th>\n",
       "      <th>token_count</th>\n",
       "    </tr>\n",
       "  </thead>\n",
       "  <tbody>\n",
       "    <tr>\n",
       "      <th>0</th>\n",
       "      <td>0</td>\n",
       "      <td>\\n</td>\n",
       "      <td>4</td>\n",
       "      <td>1</td>\n",
       "      <td>1.0</td>\n",
       "    </tr>\n",
       "    <tr>\n",
       "      <th>1</th>\n",
       "      <td>1</td>\n",
       "      <td></td>\n",
       "      <td>1</td>\n",
       "      <td>1</td>\n",
       "      <td>0.0</td>\n",
       "    </tr>\n",
       "    <tr>\n",
       "      <th>2</th>\n",
       "      <td>2</td>\n",
       "      <td>1 Dear shareholders, colleagues, customers, an...</td>\n",
       "      <td>613</td>\n",
       "      <td>27</td>\n",
       "      <td>928.0</td>\n",
       "    </tr>\n",
       "  </tbody>\n",
       "</table>\n",
       "</div>"
      ],
      "text/plain": [
       "   number                                               text  word_count  \\\n",
       "0       0                                                 \\n           4   \n",
       "1       1                                                              1   \n",
       "2       2  1 Dear shareholders, colleagues, customers, an...         613   \n",
       "\n",
       "   sentence_count  token_count  \n",
       "0               1          1.0  \n",
       "1               1          0.0  \n",
       "2              27        928.0  "
      ]
     },
     "execution_count": 14,
     "metadata": {},
     "output_type": "execute_result"
    }
   ],
   "source": [
    "\n",
    "docs_df = pd.DataFrame(pages_and_content)\n",
    "docs_df.head(3)"
   ]
  },
  {
   "cell_type": "code",
   "execution_count": 16,
   "metadata": {},
   "outputs": [],
   "source": [
    "from langchain.text_splitter import SentenceTransformersTokenTextSplitter\n",
    "Token_Splitter =  SentenceTransformersTokenTextSplitter(chunk_overlap = 0,tokens_per_chunk = 256)\n",
    "\n",
    "    "
   ]
  },
  {
   "cell_type": "code",
   "execution_count": 17,
   "metadata": {},
   "outputs": [],
   "source": [
    "def token_split(Token_Splitter,doc_chunks):\n",
    "    token_splits =[]\n",
    "    for text in doc_chunks:\n",
    "        token_split = Token_Splitter.split_text(text)\n",
    "        token_splits.append(token_split)\n",
    "    return token_splits"
   ]
  },
  {
   "cell_type": "code",
   "execution_count": 47,
   "metadata": {},
   "outputs": [],
   "source": [
    "token_splits = token_split(Token_Splitter,doc_chunks)\n"
   ]
  },
  {
   "cell_type": "code",
   "execution_count": 48,
   "metadata": {},
   "outputs": [
    {
     "data": {
      "text/plain": [
       "115"
      ]
     },
     "execution_count": 48,
     "metadata": {},
     "output_type": "execute_result"
    }
   ],
   "source": [
    "len(token_splits)"
   ]
  },
  {
   "cell_type": "code",
   "execution_count": 52,
   "metadata": {},
   "outputs": [],
   "source": [
    "token_splits = [item for sublist in token_splits for item in sublist]\n"
   ]
  },
  {
   "cell_type": "code",
   "execution_count": 20,
   "metadata": {},
   "outputs": [],
   "source": [
    "from chromadb.utils.embedding_functions import SentenceTransformerEmbeddingFunction\n",
    "\n",
    "#connecting to chroma and creating collection\n",
    "embedding_fcn = SentenceTransformerEmbeddingFunction()\n",
    "database_path = '/Users/brighttenkorangofori/Desktop/chromadb'\n",
    "chroma_client = chromadb.PersistentClient(path =database_path)\n",
    "collection = chroma_client.get_or_create_collection(name='microsoft',embedding_function=embedding_fcn)\n",
    "#addding ids and documents to collection \n"
   ]
  },
  {
   "cell_type": "code",
   "execution_count": 55,
   "metadata": {},
   "outputs": [],
   "source": [
    "ids = [str(i) for i in range(len(token_splits))]\n",
    "collection.add(ids = ids,documents= token_splits)"
   ]
  },
  {
   "cell_type": "code",
   "execution_count": 56,
   "metadata": {},
   "outputs": [],
   "source": [
    "#gets all embeddings from documents in database\n",
    "embeddings = collection.get(include=['embeddings','documents'])['embeddings']"
   ]
  },
  {
   "cell_type": "code",
   "execution_count": 57,
   "metadata": {},
   "outputs": [],
   "source": [
    "query = ['what was the total revenue for the year']\n",
    "query_embeding = embedding_fcn(query)\n",
    "results = collection.query(query_texts=query,n_results=5,include=['embeddings','documents'])"
   ]
  },
  {
   "cell_type": "code",
   "execution_count": 61,
   "metadata": {},
   "outputs": [
    {
     "data": {
      "text/plain": [
       "[['amortization period would have been one year or less. these costs include our internal sales force compensation program and certain partner sales incentive programs as we have determined annual compensation is commensurate with annual sales activities. cost of revenue cost of revenue includes : manufacturing and distribution costs for products sold and programs licensed ; operating costs related to product support service centers and product distribution centers ; costs incurred to include software on pcs sold by original equipment manufacturers ( “ oem ” ), to drive traffic to our websites, and to acquire online',\n",
       "  '50 cash flows statements ( in millions ) year ended june 30, 2022 2021 2020 operations net income $ 72, 738 $ 61, 271 $ 44, 281 adjustments to reconcile net income to net cash from operations : depreciation, amortization, and other 14, 460 11, 686 12, 796 stock - based compensation expense 7, 502 6, 118 5, 289 net recognized gains on investments and derivatives ( 409 ) ( 1, 249 ) ( 219 ) deferred income taxes ( 5, 702 ) ( 150 ) 11 changes in operating assets and liabilities : accounts receivable ( 6, 834 ) ( 6, 481 ) ( 2, 577 ) inventories ( 1, 123 ) ( 737 ) 168 other current assets ( 709 ) ( 932 ) ( 2, 330 ) other long - term assets ( 2, 805 ) ( 3, 459 ) ( 1, 037 ) accounts payable 2, 943 2, 798 3, 018 unearned revenue 5, 109 4, 633 2, 212 income taxes 696 ( 2, 309 ) ( 3, 631 ) other current liabilities 2, 344 4, 149 1, 346 other long - term',\n",
       "  ', or 2020. revenue, classified by the major geographic areas in which our customers were located, was as follows : ( in millions ) year ended june 30, 2022 2021 2020 united states ( a ) $ 100, 218 $ 83, 953 $ 73, 160 other countries 98, 052 84, 135 69, 855 total $ 198, 270 $ 168, 088 $ 143, 015 ( a ) includes billings to oems and certain multinational organizations because of the nature of these businesses and the impracticability of determining the geographic source of the revenue. revenue, classified by significant product and service offerings, was as follows : ( in millions ) year ended june 30, 2022 2021 2020 server products and cloud services $ 67, 321 $ 52, 589 $ 41, 379 office products and cloud services 44, 862 39, 872 35, 316 windows 24, 761 22, 488 21, 510 gaming 16, 230 15, 370 11, 575 linkedin 13, 816 10, 289 8, 077 search and news advertising 11, 591 9, 267 8, 524 enterprise services 7, 407 6, 943 6, 409 devices 6, 991 6, 791 6, 457',\n",
       "  '47 financial statements and supplementary data income statements ( in millions, except per share amounts ) year ended june 30, 2022 2021 2020 revenue : product $ 72, 732 $ 71, 074 $ 68, 041 service and other 125, 538 97, 014 74, 974 total revenue 198, 270 168, 088 143, 015 cost of revenue : product 19, 064 18, 219 16, 017 service and other 43, 586 34, 013 30, 061 total cost of revenue 62, 650 52, 232 46, 078 gross margin 135, 620 115, 856 96, 937 research and development 24, 512 20, 716 19, 269 sales and marketing 21, 825 20, 117 19, 598 general and administrative 5, 900 5, 107 5, 111 operating income 83, 383 69, 916 52, 959 other income, net 333 1, 186 77 income before income taxes 83, 716 71, 102 53, 036 provision for income taxes 10, 978 9, 831 8, 755 net income $ 72, 738 $ 61, 271 $ 44, 281 earnings per share : basic $ 9. 70 $ 8. 12 $ 5. 82 diluted',\n",
       "  '74 note 13 — unearned revenue unearned revenue by segment was as follows : ( in millions ) june 30, 2022 2021 productivity and business processes $ 24, 558 $ 22, 120 intelligent cloud 19, 371 17, 710 more personal computing 4, 479 4, 311 total $ 48, 408 $ 44, 141 changes in unearned revenue were as follows : ( in millions ) year ended june 30, 2022 balance, beginning of period $ 44, 141 deferral of revenue 110, 455 recognition of unearned revenue ( 106, 188 ) balance, end of period $ 48, 408 revenue allocated to remaining performance obligations, which includes unearned revenue and amounts that will be invoiced and recognized as revenue in future periods, was $ 193 billion as of june 30, 2022, of which $ 189 billion is related to the commercial portion of revenue. we expect to recognize approximately 45 % of this revenue over the next 12 months and the remainder thereafter. note 14 — leases we have operating and finance leases for datacenters, corporate offices, research and development facilities, microsoft experience centers, and certain equipment. our leases have remaining lease terms of 1 year to 19 years, some of which include options to']]"
      ]
     },
     "execution_count": 61,
     "metadata": {},
     "output_type": "execute_result"
    }
   ],
   "source": [
    "#document results from single query\n",
    "results['documents']"
   ]
  },
  {
   "cell_type": "code",
   "execution_count": 59,
   "metadata": {},
   "outputs": [
    {
     "data": {
      "text/plain": [
       "(1, 384)"
      ]
     },
     "execution_count": 59,
     "metadata": {},
     "output_type": "execute_result"
    }
   ],
   "source": [
    "np.array(query_embeding).shape"
   ]
  },
  {
   "cell_type": "code",
   "execution_count": 62,
   "metadata": {},
   "outputs": [],
   "source": [
    "def supplement_queries(query, client, num_queries):\n",
    "    \"\"\"\n",
    "    Args:\n",
    "        query: The main question to generate supplementary questions for.\n",
    "        client: The OpenAI API client.\n",
    "        num_queries: The number of supplementary questions to generate.\n",
    "\n",
    "    Returns:\n",
    "        A list of supplementary questions related to the main query.\n",
    "    \"\"\"\n",
    "    model = 'gpt-3.5-turbo'\n",
    "    temperature = 0.6\n",
    "    prompt = f\"\"\"\n",
    "    You are a knowledgeable financial research assistant. \n",
    "    Your users are inquiring about an annual report. \n",
    "    For the given question, propose up to {num_queries} related questions to assist them in finding the information they need. \n",
    "    Provide concise, single-topic questions (without compounding sentences) that cover various aspects of the topic. \n",
    "    Ensure each question is complete and directly related to the original inquiry. \n",
    "    List each question on a separate line without numbering.\n",
    "    \"\"\"\n",
    "\n",
    "    try:\n",
    "        response = get_openai_response(\n",
    "            user_content=query,\n",
    "            model=model,\n",
    "            client=client,\n",
    "            temperature=temperature,\n",
    "            system_content=prompt\n",
    "        )\n",
    "        return response\n",
    "    except ConnectionError as e:\n",
    "        return f'{e} could not fetch result'\n",
    "\n"
   ]
  },
  {
   "cell_type": "code",
   "execution_count": 63,
   "metadata": {},
   "outputs": [],
   "source": [
    "generated_queries = supplement_queries(query[0],client,5)\n"
   ]
  },
  {
   "cell_type": "code",
   "execution_count": 64,
   "metadata": {},
   "outputs": [],
   "source": [
    "#converts to list\n",
    "generated_queries = generated_queries.splitlines(keepends=False)"
   ]
  },
  {
   "cell_type": "code",
   "execution_count": 185,
   "metadata": {},
   "outputs": [
    {
     "data": {
      "text/plain": [
       "list"
      ]
     },
     "execution_count": 185,
     "metadata": {},
     "output_type": "execute_result"
    }
   ],
   "source": [
    "# 5 extra questions to supplement 'what was the total revenue for the year'\n",
    "generated_queries"
   ]
  },
  {
   "cell_type": "code",
   "execution_count": 66,
   "metadata": {},
   "outputs": [],
   "source": [
    "# we are reassigning generated queries to joint_query\n",
    "joint_query = query +generated_queries "
   ]
  },
  {
   "cell_type": "code",
   "execution_count": 67,
   "metadata": {},
   "outputs": [
    {
     "data": {
      "text/plain": [
       "['what was the total revenue for the year',\n",
       " '- What were the sources of revenue for the company during the year?',\n",
       " '- How does the total revenue for the year compare to the previous year?',\n",
       " '- Did the company experience any significant fluctuations in revenue throughout the year?',\n",
       " \"- What percentage of the total revenue came from the company's core business operations?\",\n",
       " '- Were there any one-time or unusual revenue items that impacted the total revenue for the year?']"
      ]
     },
     "execution_count": 67,
     "metadata": {},
     "output_type": "execute_result"
    }
   ],
   "source": [
    "joint_query"
   ]
  },
  {
   "cell_type": "code",
   "execution_count": 68,
   "metadata": {},
   "outputs": [],
   "source": [
    "#gettinng the augmented queries from our documents through similarity search\n",
    "\n",
    "joint_query_results = collection.query(query_texts=joint_query,n_results=5,include=['embeddings','documents'])"
   ]
  },
  {
   "cell_type": "code",
   "execution_count": 69,
   "metadata": {},
   "outputs": [
    {
     "data": {
      "text/plain": [
       "[['amortization period would have been one year or less. these costs include our internal sales force compensation program and certain partner sales incentive programs as we have determined annual compensation is commensurate with annual sales activities. cost of revenue cost of revenue includes : manufacturing and distribution costs for products sold and programs licensed ; operating costs related to product support service centers and product distribution centers ; costs incurred to include software on pcs sold by original equipment manufacturers ( “ oem ” ), to drive traffic to our websites, and to acquire online',\n",
       "  '50 cash flows statements ( in millions ) year ended june 30, 2022 2021 2020 operations net income $ 72, 738 $ 61, 271 $ 44, 281 adjustments to reconcile net income to net cash from operations : depreciation, amortization, and other 14, 460 11, 686 12, 796 stock - based compensation expense 7, 502 6, 118 5, 289 net recognized gains on investments and derivatives ( 409 ) ( 1, 249 ) ( 219 ) deferred income taxes ( 5, 702 ) ( 150 ) 11 changes in operating assets and liabilities : accounts receivable ( 6, 834 ) ( 6, 481 ) ( 2, 577 ) inventories ( 1, 123 ) ( 737 ) 168 other current assets ( 709 ) ( 932 ) ( 2, 330 ) other long - term assets ( 2, 805 ) ( 3, 459 ) ( 1, 037 ) accounts payable 2, 943 2, 798 3, 018 unearned revenue 5, 109 4, 633 2, 212 income taxes 696 ( 2, 309 ) ( 3, 631 ) other current liabilities 2, 344 4, 149 1, 346 other long - term',\n",
       "  ', or 2020. revenue, classified by the major geographic areas in which our customers were located, was as follows : ( in millions ) year ended june 30, 2022 2021 2020 united states ( a ) $ 100, 218 $ 83, 953 $ 73, 160 other countries 98, 052 84, 135 69, 855 total $ 198, 270 $ 168, 088 $ 143, 015 ( a ) includes billings to oems and certain multinational organizations because of the nature of these businesses and the impracticability of determining the geographic source of the revenue. revenue, classified by significant product and service offerings, was as follows : ( in millions ) year ended june 30, 2022 2021 2020 server products and cloud services $ 67, 321 $ 52, 589 $ 41, 379 office products and cloud services 44, 862 39, 872 35, 316 windows 24, 761 22, 488 21, 510 gaming 16, 230 15, 370 11, 575 linkedin 13, 816 10, 289 8, 077 search and news advertising 11, 591 9, 267 8, 524 enterprise services 7, 407 6, 943 6, 409 devices 6, 991 6, 791 6, 457',\n",
       "  '47 financial statements and supplementary data income statements ( in millions, except per share amounts ) year ended june 30, 2022 2021 2020 revenue : product $ 72, 732 $ 71, 074 $ 68, 041 service and other 125, 538 97, 014 74, 974 total revenue 198, 270 168, 088 143, 015 cost of revenue : product 19, 064 18, 219 16, 017 service and other 43, 586 34, 013 30, 061 total cost of revenue 62, 650 52, 232 46, 078 gross margin 135, 620 115, 856 96, 937 research and development 24, 512 20, 716 19, 269 sales and marketing 21, 825 20, 117 19, 598 general and administrative 5, 900 5, 107 5, 111 operating income 83, 383 69, 916 52, 959 other income, net 333 1, 186 77 income before income taxes 83, 716 71, 102 53, 036 provision for income taxes 10, 978 9, 831 8, 755 net income $ 72, 738 $ 61, 271 $ 44, 281 earnings per share : basic $ 9. 70 $ 8. 12 $ 5. 82 diluted',\n",
       "  '74 note 13 — unearned revenue unearned revenue by segment was as follows : ( in millions ) june 30, 2022 2021 productivity and business processes $ 24, 558 $ 22, 120 intelligent cloud 19, 371 17, 710 more personal computing 4, 479 4, 311 total $ 48, 408 $ 44, 141 changes in unearned revenue were as follows : ( in millions ) year ended june 30, 2022 balance, beginning of period $ 44, 141 deferral of revenue 110, 455 recognition of unearned revenue ( 106, 188 ) balance, end of period $ 48, 408 revenue allocated to remaining performance obligations, which includes unearned revenue and amounts that will be invoiced and recognized as revenue in future periods, was $ 193 billion as of june 30, 2022, of which $ 189 billion is related to the commercial portion of revenue. we expect to recognize approximately 45 % of this revenue over the next 12 months and the remainder thereafter. note 14 — leases we have operating and finance leases for datacenters, corporate offices, research and development facilities, microsoft experience centers, and certain equipment. our leases have remaining lease terms of 1 year to 19 years, some of which include options to'],\n",
       " ['amortization period would have been one year or less. these costs include our internal sales force compensation program and certain partner sales incentive programs as we have determined annual compensation is commensurate with annual sales activities. cost of revenue cost of revenue includes : manufacturing and distribution costs for products sold and programs licensed ; operating costs related to product support service centers and product distribution centers ; costs incurred to include software on pcs sold by original equipment manufacturers ( “ oem ” ), to drive traffic to our websites, and to acquire online',\n",
       "  'services, and other windows commercial offerings surface revenue growth revenue from surface devices and accessories xbox content and services revenue growth revenue from xbox content and services, comprising first - and third - party content ( including games and in - game content ), xbox game pass and other subscriptions, xbox cloud gaming, third - party disc royalties, advertising, and other cloud services search and news advertising revenue, excluding tac, growth revenue from search and news advertising excluding traffic acquisition costs ( “ tac ” ) paid to bing ads network publishers and news partners summary results of operations ( in millions, except percentages and per share amounts ) 2022 2021 percentage change revenue $ 198, 270 $ 168, 088 18 % gross margin 135, 620 115, 856 17 % operating income 83, 383 69, 916 19 % net income 72, 738 61, 271 19 % diluted earnings per share 9. 65 8. 05 20 % adjusted net income ( non - gaap ) 69, 447 60, 651 15 % adjusted diluted earnings per share ( non - gaap ) 9. 21 7. 97 16 % adjusted net income and adjusted diluted earnings per share ( “ eps ” ) are non - gaap financial measures which exclude the net income tax benefit related',\n",
       "  '35 reportable segments fiscal year 2022 compared with fiscal year 2021 productivity and business processes revenue increased $ 9. 4 billion or 18 %. • office commercial products and cloud services revenue increased $ 4. 4 billion or 13 %. office 365 commercial revenue grew 18 % driven by seat growth of 14 %, with continued momentum in small and medium business and frontline worker offerings, as well as growth in revenue per user. office commercial products revenue declined 22 % driven by continued customer shift to cloud offerings. • office consumer products and cloud services revenue increased $ 641 million or 11 % driven by microsoft 365 consumer subscription revenue. microsoft 365 consumer subscribers grew 15 % to 59. 7 million. • linkedin revenue increased $ 3. 5 billion or 34 % driven by a strong job market in our talent solutions business and advertising demand in our marketing solutions business. • dynamics products and cloud services revenue increased 25 % driven by dynamics 365 growth of 39 %. operating income increased $ 5. 3 billion or 22 %. • gross margin increased $ 7. 3 billion or 17 % driven by growth in office 365 commercial and linkedin. gross margin percentage was relatively unchanged. excluding the impact of the change in accounting estimate, gross margin percentage increased 2 points driven by improvement across all cloud services. •',\n",
       "  '36 • search and news advertising revenue increased $ 2. 3 billion or 25 %. search and news advertising revenue excluding traffic acquisition costs increased 27 % driven by higher revenue per search and search volume. • gaming revenue increased $ 860 million or 6 % on a strong prior year comparable that benefited from xbox series x | s launches and stay - at - home scenarios, driven by growth in xbox hardware and xbox content and services. xbox hardware revenue increased 16 % due to continued demand for xbox series x | s. xbox content and services revenue increased 3 % driven by growth in xbox game pass subscriptions and first - party content, offset in part by a decline in third - party content. • surface revenue increased $ 226 million or 3 %. operating income increased $ 1. 5 billion or 8 %. • gross margin increased $ 3. 1 billion or 10 % driven by growth in windows and search and news advertising. gross margin percentage was relatively unchanged. • operating expenses increased $ 1. 5 billion or 14 % driven by investments in gaming, search and news advertising, and windows marketing. operating expenses research and development ( in millions, except percentages ) 2022 2021 percentage change research and development $ 24, 512 $ 20, 716 18 % as a percent of revenue 12 %',\n",
       "  '47 financial statements and supplementary data income statements ( in millions, except per share amounts ) year ended june 30, 2022 2021 2020 revenue : product $ 72, 732 $ 71, 074 $ 68, 041 service and other 125, 538 97, 014 74, 974 total revenue 198, 270 168, 088 143, 015 cost of revenue : product 19, 064 18, 219 16, 017 service and other 43, 586 34, 013 30, 061 total cost of revenue 62, 650 52, 232 46, 078 gross margin 135, 620 115, 856 96, 937 research and development 24, 512 20, 716 19, 269 sales and marketing 21, 825 20, 117 19, 598 general and administrative 5, 900 5, 107 5, 111 operating income 83, 383 69, 916 52, 959 other income, net 333 1, 186 77 income before income taxes 83, 716 71, 102 53, 036 provision for income taxes 10, 978 9, 831 8, 755 net income $ 72, 738 $ 61, 271 $ 44, 281 earnings per share : basic $ 9. 70 $ 8. 12 $ 5. 82 diluted'],\n",
       " ['35 reportable segments fiscal year 2022 compared with fiscal year 2021 productivity and business processes revenue increased $ 9. 4 billion or 18 %. • office commercial products and cloud services revenue increased $ 4. 4 billion or 13 %. office 365 commercial revenue grew 18 % driven by seat growth of 14 %, with continued momentum in small and medium business and frontline worker offerings, as well as growth in revenue per user. office commercial products revenue declined 22 % driven by continued customer shift to cloud offerings. • office consumer products and cloud services revenue increased $ 641 million or 11 % driven by microsoft 365 consumer subscription revenue. microsoft 365 consumer subscribers grew 15 % to 59. 7 million. • linkedin revenue increased $ 3. 5 billion or 34 % driven by a strong job market in our talent solutions business and advertising demand in our marketing solutions business. • dynamics products and cloud services revenue increased 25 % driven by dynamics 365 growth of 39 %. operating income increased $ 5. 3 billion or 22 %. • gross margin increased $ 7. 3 billion or 17 % driven by growth in office 365 commercial and linkedin. gross margin percentage was relatively unchanged. excluding the impact of the change in accounting estimate, gross margin percentage increased 2 points driven by improvement across all cloud services. •',\n",
       "  'other risks. seasonality our revenue fluctuates quarterly and is generally higher in the second and fourth quarters of our fiscal year. second quarter revenue is driven by corporate year - end spending trends in our major markets and holiday season spending by consumers, and fourth quarter revenue is driven by the volume of multi - year on - premises contracts executed during the period. reportable segments we report our financial performance based on the following segments : productivity and business processes, intelligent cloud, and more personal computing. the segment amounts included in md & a are presented on a basis consistent with our internal management reporting. additional information on our reportable segments is contained in note 19 – segment information and geographic data of the notes to financial statements in our fiscal year 2022 form 10 - k. metrics we use metrics in assessing the performance of our business and to make informed decisions regarding the allocation of',\n",
       "  'net income and diluted eps of $ 620 million and $ 0. 08, respectively. gross margin and operating income both included an unfavorable foreign currency impact of 2 %. segment results of operations ( in millions, except percentages ) 2022 2021 percentage change revenue productivity and business processes $ 63, 364 $ 53, 915 18 % intelligent cloud 75, 251 60, 080 25 % more personal computing 59, 655 54, 093 10 % total $ 198, 270 $ 168, 088 18 % operating income productivity and business processes $ 29, 687 $ 24, 351 22 % intelligent cloud 32, 721 26, 126 25 % more personal computing 20, 975 19, 439 8 % total $ 83, 383 $ 69, 916 19 %',\n",
       "  'a percent of revenue 3 % 3 % 0ppt',\n",
       "  '34 net income tax benefit related to an india supreme court decision on withholding taxes in the third quarter of fiscal year 2021. refer to the non - gaap financial measures section below for a reconciliation of our financial results reported in accordance with gaap to non - gaap financial results. see note 12 – income taxes of the notes to financial statements in our fiscal year 2022 form 10 - k for further discussion. fiscal year 2022 compared with fiscal year 2021 revenue increased $ 30. 2 billion or 18 % driven by growth across each of our segments. intelligent cloud revenue increased driven by azure and other cloud services. productivity and business processes revenue increased driven by office 365 commercial and linkedin. more personal computing revenue increased driven by search and news advertising and windows. cost of revenue increased $ 10. 4 billion or 20 % driven by growth in microsoft cloud. gross margin increased $ 19. 8 billion or 17 % driven by growth across each of our segments. • gross margin percentage decreased slightly. excluding the impact of the fiscal year 2021 change in accounting estimate for the useful lives of our server and network equipment, gross margin percentage increased 1 point driven by improvement in productivity and business processes. • microsoft cloud gross margin percentage decreased slightly to 70 %. excluding the impact of the change in accounting'],\n",
       " ['35 reportable segments fiscal year 2022 compared with fiscal year 2021 productivity and business processes revenue increased $ 9. 4 billion or 18 %. • office commercial products and cloud services revenue increased $ 4. 4 billion or 13 %. office 365 commercial revenue grew 18 % driven by seat growth of 14 %, with continued momentum in small and medium business and frontline worker offerings, as well as growth in revenue per user. office commercial products revenue declined 22 % driven by continued customer shift to cloud offerings. • office consumer products and cloud services revenue increased $ 641 million or 11 % driven by microsoft 365 consumer subscription revenue. microsoft 365 consumer subscribers grew 15 % to 59. 7 million. • linkedin revenue increased $ 3. 5 billion or 34 % driven by a strong job market in our talent solutions business and advertising demand in our marketing solutions business. • dynamics products and cloud services revenue increased 25 % driven by dynamics 365 growth of 39 %. operating income increased $ 5. 3 billion or 22 %. • gross margin increased $ 7. 3 billion or 17 % driven by growth in office 365 commercial and linkedin. gross margin percentage was relatively unchanged. excluding the impact of the change in accounting estimate, gross margin percentage increased 2 points driven by improvement across all cloud services. •',\n",
       "  'other risks. seasonality our revenue fluctuates quarterly and is generally higher in the second and fourth quarters of our fiscal year. second quarter revenue is driven by corporate year - end spending trends in our major markets and holiday season spending by consumers, and fourth quarter revenue is driven by the volume of multi - year on - premises contracts executed during the period. reportable segments we report our financial performance based on the following segments : productivity and business processes, intelligent cloud, and more personal computing. the segment amounts included in md & a are presented on a basis consistent with our internal management reporting. additional information on our reportable segments is contained in note 19 – segment information and geographic data of the notes to financial statements in our fiscal year 2022 form 10 - k. metrics we use metrics in assessing the performance of our business and to make informed decisions regarding the allocation of',\n",
       "  '10 stock performance comparison of 5 year cumulative total return * among microsoft corporation, the s & p 500 index and the nasdaq computer index 6 / 17 6 / 18 6 / 19 6 / 20 6 / 21 6 / 22 microsoft corporation 100. 00 145. 84 201. 36 309. 69 416. 25 397. 90 s & p 500 100. 00 114. 37 126. 29 135. 77 191. 15 170. 86 nasdaq computer 100. 00 131. 27 139. 29 196. 40 288. 13 228. 71 * $ 100 invested on 6 / 30 / 17 in stock or index, including reinvestment of dividends. fiscal year ending june 30.',\n",
       "  'for calculating income taxes in an interim period, and the recognition of deferred tax liabilities for outside basis differences related to changes in ownership of equity method investments and foreign subsidiaries. the guidance also simplifies aspects of accounting for franchise taxes and enacted changes in tax laws or rates and clarifies the accounting for transactions that result in a step - up in the tax basis of goodwill. we adopted the standard effective july 1, 2021. adoption of the standard did not have a material impact on our consolidated financial statements. note 2 — earnings per share basic earnings per share ( “ eps ” ) is computed based on the weighted average number of shares of common stock outstanding during the period. diluted eps is computed based on the weighted average number of shares of common stock plus the effect of dilutive potential common shares outstanding during the period using the treasury stock method. dilutive potential common shares include outstanding stock options and stock awards. the components of basic and diluted eps were as follows : ( in millions, except earnings per share ) year ended june 30, 2022 2021 2020 net income available for common shareholders ( a ) $ 72, 738 $ 61, 271 $ 44, 281 weighted average outstanding shares of common stock ( b ) 7, 496 7, 547 7',\n",
       "  'amounts are reasonably possible. were unfavorable final outcomes to occur, there exists the possibility of a material adverse impact in our consolidated financial statements for the period in which the effects become reasonably estimable.'],\n",
       " ['a percent of revenue 3 % 3 % 0ppt',\n",
       "  'net income and diluted eps of $ 620 million and $ 0. 08, respectively. gross margin and operating income both included an unfavorable foreign currency impact of 2 %. segment results of operations ( in millions, except percentages ) 2022 2021 percentage change revenue productivity and business processes $ 63, 364 $ 53, 915 18 % intelligent cloud 75, 251 60, 080 25 % more personal computing 59, 655 54, 093 10 % total $ 198, 270 $ 168, 088 18 % operating income productivity and business processes $ 29, 687 $ 24, 351 22 % intelligent cloud 32, 721 26, 126 25 % more personal computing 20, 975 19, 439 8 % total $ 83, 383 $ 69, 916 19 %',\n",
       "  '82 in addition, certain costs incurred at a corporate level that are identifiable and that benefit our segments are allocated to them. these allocated costs include legal, including settlements and fines, information technology, human resources, finance, excise taxes, field selling, shared facilities services, and customer service and support. each allocation is measured differently based on the specific facts and circumstances of the costs being allocated. segment revenue and operating income were as follows during the periods presented : ( in millions ) year ended june 30, 2022 2021 2020 revenue productivity and business processes $ 63, 364 $ 53, 915 $ 46, 398 intelligent cloud 75, 251 60, 080 48, 366 more personal computing 59, 655 54, 093 48, 251 total $ 198, 270 $ 168, 088 $ 143, 015 operating income productivity and business processes $ 29, 687 $ 24, 351 $ 18, 724 intelligent cloud 32, 721 26, 126 18, 324 more personal computing 20, 975 19, 439 15, 911 total $ 83, 383 $ 69, 916 $ 52, 959 no sales to an individual customer or country other than the united states accounted for more than 10 % of revenue for fiscal years 2022, 2021',\n",
       "  'services, and other windows commercial offerings surface revenue growth revenue from surface devices and accessories xbox content and services revenue growth revenue from xbox content and services, comprising first - and third - party content ( including games and in - game content ), xbox game pass and other subscriptions, xbox cloud gaming, third - party disc royalties, advertising, and other cloud services search and news advertising revenue, excluding tac, growth revenue from search and news advertising excluding traffic acquisition costs ( “ tac ” ) paid to bing ads network publishers and news partners summary results of operations ( in millions, except percentages and per share amounts ) 2022 2021 percentage change revenue $ 198, 270 $ 168, 088 18 % gross margin 135, 620 115, 856 17 % operating income 83, 383 69, 916 19 % net income 72, 738 61, 271 19 % diluted earnings per share 9. 65 8. 05 20 % adjusted net income ( non - gaap ) 69, 447 60, 651 15 % adjusted diluted earnings per share ( non - gaap ) 9. 21 7. 97 16 % adjusted net income and adjusted diluted earnings per share ( “ eps ” ) are non - gaap financial measures which exclude the net income tax benefit related',\n",
       "  '47 financial statements and supplementary data income statements ( in millions, except per share amounts ) year ended june 30, 2022 2021 2020 revenue : product $ 72, 732 $ 71, 074 $ 68, 041 service and other 125, 538 97, 014 74, 974 total revenue 198, 270 168, 088 143, 015 cost of revenue : product 19, 064 18, 219 16, 017 service and other 43, 586 34, 013 30, 061 total cost of revenue 62, 650 52, 232 46, 078 gross margin 135, 620 115, 856 96, 937 research and development 24, 512 20, 716 19, 269 sales and marketing 21, 825 20, 117 19, 598 general and administrative 5, 900 5, 107 5, 111 operating income 83, 383 69, 916 52, 959 other income, net 333 1, 186 77 income before income taxes 83, 716 71, 102 53, 036 provision for income taxes 10, 978 9, 831 8, 755 net income $ 72, 738 $ 61, 271 $ 44, 281 earnings per share : basic $ 9. 70 $ 8. 12 $ 5. 82 diluted'],\n",
       " ['50 cash flows statements ( in millions ) year ended june 30, 2022 2021 2020 operations net income $ 72, 738 $ 61, 271 $ 44, 281 adjustments to reconcile net income to net cash from operations : depreciation, amortization, and other 14, 460 11, 686 12, 796 stock - based compensation expense 7, 502 6, 118 5, 289 net recognized gains on investments and derivatives ( 409 ) ( 1, 249 ) ( 219 ) deferred income taxes ( 5, 702 ) ( 150 ) 11 changes in operating assets and liabilities : accounts receivable ( 6, 834 ) ( 6, 481 ) ( 2, 577 ) inventories ( 1, 123 ) ( 737 ) 168 other current assets ( 709 ) ( 932 ) ( 2, 330 ) other long - term assets ( 2, 805 ) ( 3, 459 ) ( 1, 037 ) accounts payable 2, 943 2, 798 3, 018 unearned revenue 5, 109 4, 633 2, 212 income taxes 696 ( 2, 309 ) ( 3, 631 ) other current liabilities 2, 344 4, 149 1, 346 other long - term',\n",
       "  'other risks. seasonality our revenue fluctuates quarterly and is generally higher in the second and fourth quarters of our fiscal year. second quarter revenue is driven by corporate year - end spending trends in our major markets and holiday season spending by consumers, and fourth quarter revenue is driven by the volume of multi - year on - premises contracts executed during the period. reportable segments we report our financial performance based on the following segments : productivity and business processes, intelligent cloud, and more personal computing. the segment amounts included in md & a are presented on a basis consistent with our internal management reporting. additional information on our reportable segments is contained in note 19 – segment information and geographic data of the notes to financial statements in our fiscal year 2022 form 10 - k. metrics we use metrics in assessing the performance of our business and to make informed decisions regarding the allocation of',\n",
       "  ', or 2020. revenue, classified by the major geographic areas in which our customers were located, was as follows : ( in millions ) year ended june 30, 2022 2021 2020 united states ( a ) $ 100, 218 $ 83, 953 $ 73, 160 other countries 98, 052 84, 135 69, 855 total $ 198, 270 $ 168, 088 $ 143, 015 ( a ) includes billings to oems and certain multinational organizations because of the nature of these businesses and the impracticability of determining the geographic source of the revenue. revenue, classified by significant product and service offerings, was as follows : ( in millions ) year ended june 30, 2022 2021 2020 server products and cloud services $ 67, 321 $ 52, 589 $ 41, 379 office products and cloud services 44, 862 39, 872 35, 316 windows 24, 761 22, 488 21, 510 gaming 16, 230 15, 370 11, 575 linkedin 13, 816 10, 289 8, 077 search and news advertising 11, 591 9, 267 8, 524 enterprise services 7, 407 6, 943 6, 409 devices 6, 991 6, 791 6, 457',\n",
       "  '47 financial statements and supplementary data income statements ( in millions, except per share amounts ) year ended june 30, 2022 2021 2020 revenue : product $ 72, 732 $ 71, 074 $ 68, 041 service and other 125, 538 97, 014 74, 974 total revenue 198, 270 168, 088 143, 015 cost of revenue : product 19, 064 18, 219 16, 017 service and other 43, 586 34, 013 30, 061 total cost of revenue 62, 650 52, 232 46, 078 gross margin 135, 620 115, 856 96, 937 research and development 24, 512 20, 716 19, 269 sales and marketing 21, 825 20, 117 19, 598 general and administrative 5, 900 5, 107 5, 111 operating income 83, 383 69, 916 52, 959 other income, net 333 1, 186 77 income before income taxes 83, 716 71, 102 53, 036 provision for income taxes 10, 978 9, 831 8, 755 net income $ 72, 738 $ 61, 271 $ 44, 281 earnings per share : basic $ 9. 70 $ 8. 12 $ 5. 82 diluted',\n",
       "  'other 5, 291 4, 479 3, 768 total $ 198, 270 $ 168, 088 $ 143, 015 we have recast certain previously reported amounts in the table above to conform to the way we internally manage and monitor our business.']]"
      ]
     },
     "execution_count": 69,
     "metadata": {},
     "output_type": "execute_result"
    }
   ],
   "source": [
    "# 5 documnets returned for each of the 6 queries\n",
    "joint_query_results['documents']"
   ]
  },
  {
   "cell_type": "code",
   "execution_count": 70,
   "metadata": {},
   "outputs": [],
   "source": [
    "def augment_query_results(query):\n",
    "    \"\"\"Args: Takes a question\n",
    "    \n",
    "     Returns: An answer from LLM using documents results as context\"\"\"\n",
    "    results = collection.query(query_texts=query,n_results=5)\n",
    "    context = results['documents']\n",
    "    user_content = f\" You are an expert financial analyzer who provides responses to {query} using {context}\"\n",
    "    messages = [{'role':'system',\n",
    "                 'content': user_content},\n",
    "                 {'role':'user',\n",
    "                 'content': query}]\n",
    "    response = client.chat.completions.create(messages= messages,\n",
    "                                              model='gpt-3.5-turbo',\n",
    "                                              temperature = 0.5)\n",
    "    answer = response.choices[0].message.content\n",
    "    return answer\n"
   ]
  },
  {
   "cell_type": "code",
   "execution_count": 71,
   "metadata": {},
   "outputs": [
    {
     "name": "stderr",
     "output_type": "stream",
     "text": [
      "/Users/brighttenkorangofori/Desktop/RAG/chroma-exp/lib/python3.9/site-packages/umap/umap_.py:1945: UserWarning: n_jobs value 1 overridden to 1 by setting random_state. Use no seed for parallelism.\n",
      "  warn(f\"n_jobs value {self.n_jobs} overridden to 1 by setting random_state. Use no seed for parallelism.\")\n"
     ]
    }
   ],
   "source": [
    "import umap\n",
    "\n",
    "def project_embeddings(embeddings, umap_transform):\n",
    "    \"\"\"\n",
    "    Projects the given embeddings using the provided UMAP transformer.\n",
    "\n",
    "    Args:\n",
    "    embeddings (numpy.ndarray): The embeddings to project.\n",
    "    umap_transform (umap.UMAP): The trained UMAP transformer.\n",
    "\n",
    "    Returns:\n",
    "    numpy.ndarray: The projected embeddings.\n",
    "    \"\"\"\n",
    "    projected_embeddings = umap_transform.transform(embeddings)\n",
    "    return projected_embeddings\n"
   ]
  },
  {
   "cell_type": "code",
   "execution_count": null,
   "metadata": {},
   "outputs": [
    {
     "data": {
      "text/plain": [
       "['what was the total revenue for the year',\n",
       " '- What were the sources of revenue for the company during the year?',\n",
       " '- Can you provide a breakdown of the revenue by product/service category?',\n",
       " '- How does the total revenue for the year compare to the previous year?',\n",
       " '- Were there any significant one-time or non-recurring revenue items that impacted the total revenue?',\n",
       " '- What were the main factors that drove changes in the total revenue for the year?']"
      ]
     },
     "execution_count": 71,
     "metadata": {},
     "output_type": "execute_result"
    }
   ],
   "source": [
    "joint_query"
   ]
  },
  {
   "cell_type": "code",
   "execution_count": 100,
   "metadata": {},
   "outputs": [],
   "source": [
    "#get data from collection using joint queries\n",
    "joint_query_results = collection.query(\n",
    "    query_texts=joint_query, n_results=5, include=[\"documents\", \"embeddings\"])\n"
   ]
  },
  {
   "cell_type": "code",
   "execution_count": 101,
   "metadata": {},
   "outputs": [
    {
     "data": {
      "text/plain": [
       "(6, 6)"
      ]
     },
     "execution_count": 101,
     "metadata": {},
     "output_type": "execute_result"
    }
   ],
   "source": [
    "len(joint_query),len(joint_query_results['documents'])"
   ]
  },
  {
   "cell_type": "code",
   "execution_count": 74,
   "metadata": {},
   "outputs": [
    {
     "name": "stdout",
     "output_type": "stream",
     "text": [
      "Query: what was the total revenue for the year  Result:['amortization period would have been one year or less. these costs include our internal sales force compensation program and certain partner sales incentive programs as we have determined annual compensation is commensurate with annual sales activities. cost of revenue cost of revenue includes : manufacturing and distribution costs for products sold and programs licensed ; operating costs related to product support service centers and product distribution centers ; costs incurred to include software on pcs sold by original equipment manufacturers ( “ oem ” ), to drive traffic to our websites, and to acquire online', '50 cash flows statements ( in millions ) year ended june 30, 2022 2021 2020 operations net income $ 72, 738 $ 61, 271 $ 44, 281 adjustments to reconcile net income to net cash from operations : depreciation, amortization, and other 14, 460 11, 686 12, 796 stock - based compensation expense 7, 502 6, 118 5, 289 net recognized gains on investments and derivatives ( 409 ) ( 1, 249 ) ( 219 ) deferred income taxes ( 5, 702 ) ( 150 ) 11 changes in operating assets and liabilities : accounts receivable ( 6, 834 ) ( 6, 481 ) ( 2, 577 ) inventories ( 1, 123 ) ( 737 ) 168 other current assets ( 709 ) ( 932 ) ( 2, 330 ) other long - term assets ( 2, 805 ) ( 3, 459 ) ( 1, 037 ) accounts payable 2, 943 2, 798 3, 018 unearned revenue 5, 109 4, 633 2, 212 income taxes 696 ( 2, 309 ) ( 3, 631 ) other current liabilities 2, 344 4, 149 1, 346 other long - term', ', or 2020. revenue, classified by the major geographic areas in which our customers were located, was as follows : ( in millions ) year ended june 30, 2022 2021 2020 united states ( a ) $ 100, 218 $ 83, 953 $ 73, 160 other countries 98, 052 84, 135 69, 855 total $ 198, 270 $ 168, 088 $ 143, 015 ( a ) includes billings to oems and certain multinational organizations because of the nature of these businesses and the impracticability of determining the geographic source of the revenue. revenue, classified by significant product and service offerings, was as follows : ( in millions ) year ended june 30, 2022 2021 2020 server products and cloud services $ 67, 321 $ 52, 589 $ 41, 379 office products and cloud services 44, 862 39, 872 35, 316 windows 24, 761 22, 488 21, 510 gaming 16, 230 15, 370 11, 575 linkedin 13, 816 10, 289 8, 077 search and news advertising 11, 591 9, 267 8, 524 enterprise services 7, 407 6, 943 6, 409 devices 6, 991 6, 791 6, 457', '47 financial statements and supplementary data income statements ( in millions, except per share amounts ) year ended june 30, 2022 2021 2020 revenue : product $ 72, 732 $ 71, 074 $ 68, 041 service and other 125, 538 97, 014 74, 974 total revenue 198, 270 168, 088 143, 015 cost of revenue : product 19, 064 18, 219 16, 017 service and other 43, 586 34, 013 30, 061 total cost of revenue 62, 650 52, 232 46, 078 gross margin 135, 620 115, 856 96, 937 research and development 24, 512 20, 716 19, 269 sales and marketing 21, 825 20, 117 19, 598 general and administrative 5, 900 5, 107 5, 111 operating income 83, 383 69, 916 52, 959 other income, net 333 1, 186 77 income before income taxes 83, 716 71, 102 53, 036 provision for income taxes 10, 978 9, 831 8, 755 net income $ 72, 738 $ 61, 271 $ 44, 281 earnings per share : basic $ 9. 70 $ 8. 12 $ 5. 82 diluted', '74 note 13 — unearned revenue unearned revenue by segment was as follows : ( in millions ) june 30, 2022 2021 productivity and business processes $ 24, 558 $ 22, 120 intelligent cloud 19, 371 17, 710 more personal computing 4, 479 4, 311 total $ 48, 408 $ 44, 141 changes in unearned revenue were as follows : ( in millions ) year ended june 30, 2022 balance, beginning of period $ 44, 141 deferral of revenue 110, 455 recognition of unearned revenue ( 106, 188 ) balance, end of period $ 48, 408 revenue allocated to remaining performance obligations, which includes unearned revenue and amounts that will be invoiced and recognized as revenue in future periods, was $ 193 billion as of june 30, 2022, of which $ 189 billion is related to the commercial portion of revenue. we expect to recognize approximately 45 % of this revenue over the next 12 months and the remainder thereafter. note 14 — leases we have operating and finance leases for datacenters, corporate offices, research and development facilities, microsoft experience centers, and certain equipment. our leases have remaining lease terms of 1 year to 19 years, some of which include options to']\n",
      "----------------------------------------------------------------------------------------------------------------------------------------------------------------------------------------------------------------------------------------------------------------------------------------------------------------------------------------------------------------------------------------------------------------------------------------------------------------------------------------------------------------------------------------------------------------------------------------------------------------------------------------------------------------------------------------------------------------------------------------------------------------------------------------------------------------------------------------------------------------------------------------------------------------------------------------------------------------------------------------------------------------------------------------\n",
      "Query: - What were the sources of revenue for the company during the year?  Result:['amortization period would have been one year or less. these costs include our internal sales force compensation program and certain partner sales incentive programs as we have determined annual compensation is commensurate with annual sales activities. cost of revenue cost of revenue includes : manufacturing and distribution costs for products sold and programs licensed ; operating costs related to product support service centers and product distribution centers ; costs incurred to include software on pcs sold by original equipment manufacturers ( “ oem ” ), to drive traffic to our websites, and to acquire online', 'services, and other windows commercial offerings surface revenue growth revenue from surface devices and accessories xbox content and services revenue growth revenue from xbox content and services, comprising first - and third - party content ( including games and in - game content ), xbox game pass and other subscriptions, xbox cloud gaming, third - party disc royalties, advertising, and other cloud services search and news advertising revenue, excluding tac, growth revenue from search and news advertising excluding traffic acquisition costs ( “ tac ” ) paid to bing ads network publishers and news partners summary results of operations ( in millions, except percentages and per share amounts ) 2022 2021 percentage change revenue $ 198, 270 $ 168, 088 18 % gross margin 135, 620 115, 856 17 % operating income 83, 383 69, 916 19 % net income 72, 738 61, 271 19 % diluted earnings per share 9. 65 8. 05 20 % adjusted net income ( non - gaap ) 69, 447 60, 651 15 % adjusted diluted earnings per share ( non - gaap ) 9. 21 7. 97 16 % adjusted net income and adjusted diluted earnings per share ( “ eps ” ) are non - gaap financial measures which exclude the net income tax benefit related', '35 reportable segments fiscal year 2022 compared with fiscal year 2021 productivity and business processes revenue increased $ 9. 4 billion or 18 %. • office commercial products and cloud services revenue increased $ 4. 4 billion or 13 %. office 365 commercial revenue grew 18 % driven by seat growth of 14 %, with continued momentum in small and medium business and frontline worker offerings, as well as growth in revenue per user. office commercial products revenue declined 22 % driven by continued customer shift to cloud offerings. • office consumer products and cloud services revenue increased $ 641 million or 11 % driven by microsoft 365 consumer subscription revenue. microsoft 365 consumer subscribers grew 15 % to 59. 7 million. • linkedin revenue increased $ 3. 5 billion or 34 % driven by a strong job market in our talent solutions business and advertising demand in our marketing solutions business. • dynamics products and cloud services revenue increased 25 % driven by dynamics 365 growth of 39 %. operating income increased $ 5. 3 billion or 22 %. • gross margin increased $ 7. 3 billion or 17 % driven by growth in office 365 commercial and linkedin. gross margin percentage was relatively unchanged. excluding the impact of the change in accounting estimate, gross margin percentage increased 2 points driven by improvement across all cloud services. •', '36 • search and news advertising revenue increased $ 2. 3 billion or 25 %. search and news advertising revenue excluding traffic acquisition costs increased 27 % driven by higher revenue per search and search volume. • gaming revenue increased $ 860 million or 6 % on a strong prior year comparable that benefited from xbox series x | s launches and stay - at - home scenarios, driven by growth in xbox hardware and xbox content and services. xbox hardware revenue increased 16 % due to continued demand for xbox series x | s. xbox content and services revenue increased 3 % driven by growth in xbox game pass subscriptions and first - party content, offset in part by a decline in third - party content. • surface revenue increased $ 226 million or 3 %. operating income increased $ 1. 5 billion or 8 %. • gross margin increased $ 3. 1 billion or 10 % driven by growth in windows and search and news advertising. gross margin percentage was relatively unchanged. • operating expenses increased $ 1. 5 billion or 14 % driven by investments in gaming, search and news advertising, and windows marketing. operating expenses research and development ( in millions, except percentages ) 2022 2021 percentage change research and development $ 24, 512 $ 20, 716 18 % as a percent of revenue 12 %', '47 financial statements and supplementary data income statements ( in millions, except per share amounts ) year ended june 30, 2022 2021 2020 revenue : product $ 72, 732 $ 71, 074 $ 68, 041 service and other 125, 538 97, 014 74, 974 total revenue 198, 270 168, 088 143, 015 cost of revenue : product 19, 064 18, 219 16, 017 service and other 43, 586 34, 013 30, 061 total cost of revenue 62, 650 52, 232 46, 078 gross margin 135, 620 115, 856 96, 937 research and development 24, 512 20, 716 19, 269 sales and marketing 21, 825 20, 117 19, 598 general and administrative 5, 900 5, 107 5, 111 operating income 83, 383 69, 916 52, 959 other income, net 333 1, 186 77 income before income taxes 83, 716 71, 102 53, 036 provision for income taxes 10, 978 9, 831 8, 755 net income $ 72, 738 $ 61, 271 $ 44, 281 earnings per share : basic $ 9. 70 $ 8. 12 $ 5. 82 diluted']\n",
      "----------------------------------------------------------------------------------------------------------------------------------------------------------------------------------------------------------------------------------------------------------------------------------------------------------------------------------------------------------------------------------------------------------------------------------------------------------------------------------------------------------------------------------------------------------------------------------------------------------------------------------------------------------------------------------------------------------------------------------------------------------------------------------------------------------------------------------------------------------------------------------------------------------------------------------------------------------------------------------------------------------------------------------------\n",
      "Query: - How does the total revenue for the year compare to the previous year?  Result:['35 reportable segments fiscal year 2022 compared with fiscal year 2021 productivity and business processes revenue increased $ 9. 4 billion or 18 %. • office commercial products and cloud services revenue increased $ 4. 4 billion or 13 %. office 365 commercial revenue grew 18 % driven by seat growth of 14 %, with continued momentum in small and medium business and frontline worker offerings, as well as growth in revenue per user. office commercial products revenue declined 22 % driven by continued customer shift to cloud offerings. • office consumer products and cloud services revenue increased $ 641 million or 11 % driven by microsoft 365 consumer subscription revenue. microsoft 365 consumer subscribers grew 15 % to 59. 7 million. • linkedin revenue increased $ 3. 5 billion or 34 % driven by a strong job market in our talent solutions business and advertising demand in our marketing solutions business. • dynamics products and cloud services revenue increased 25 % driven by dynamics 365 growth of 39 %. operating income increased $ 5. 3 billion or 22 %. • gross margin increased $ 7. 3 billion or 17 % driven by growth in office 365 commercial and linkedin. gross margin percentage was relatively unchanged. excluding the impact of the change in accounting estimate, gross margin percentage increased 2 points driven by improvement across all cloud services. •', 'other risks. seasonality our revenue fluctuates quarterly and is generally higher in the second and fourth quarters of our fiscal year. second quarter revenue is driven by corporate year - end spending trends in our major markets and holiday season spending by consumers, and fourth quarter revenue is driven by the volume of multi - year on - premises contracts executed during the period. reportable segments we report our financial performance based on the following segments : productivity and business processes, intelligent cloud, and more personal computing. the segment amounts included in md & a are presented on a basis consistent with our internal management reporting. additional information on our reportable segments is contained in note 19 – segment information and geographic data of the notes to financial statements in our fiscal year 2022 form 10 - k. metrics we use metrics in assessing the performance of our business and to make informed decisions regarding the allocation of', 'net income and diluted eps of $ 620 million and $ 0. 08, respectively. gross margin and operating income both included an unfavorable foreign currency impact of 2 %. segment results of operations ( in millions, except percentages ) 2022 2021 percentage change revenue productivity and business processes $ 63, 364 $ 53, 915 18 % intelligent cloud 75, 251 60, 080 25 % more personal computing 59, 655 54, 093 10 % total $ 198, 270 $ 168, 088 18 % operating income productivity and business processes $ 29, 687 $ 24, 351 22 % intelligent cloud 32, 721 26, 126 25 % more personal computing 20, 975 19, 439 8 % total $ 83, 383 $ 69, 916 19 %', 'a percent of revenue 3 % 3 % 0ppt', '34 net income tax benefit related to an india supreme court decision on withholding taxes in the third quarter of fiscal year 2021. refer to the non - gaap financial measures section below for a reconciliation of our financial results reported in accordance with gaap to non - gaap financial results. see note 12 – income taxes of the notes to financial statements in our fiscal year 2022 form 10 - k for further discussion. fiscal year 2022 compared with fiscal year 2021 revenue increased $ 30. 2 billion or 18 % driven by growth across each of our segments. intelligent cloud revenue increased driven by azure and other cloud services. productivity and business processes revenue increased driven by office 365 commercial and linkedin. more personal computing revenue increased driven by search and news advertising and windows. cost of revenue increased $ 10. 4 billion or 20 % driven by growth in microsoft cloud. gross margin increased $ 19. 8 billion or 17 % driven by growth across each of our segments. • gross margin percentage decreased slightly. excluding the impact of the fiscal year 2021 change in accounting estimate for the useful lives of our server and network equipment, gross margin percentage increased 1 point driven by improvement in productivity and business processes. • microsoft cloud gross margin percentage decreased slightly to 70 %. excluding the impact of the change in accounting']\n",
      "----------------------------------------------------------------------------------------------------------------------------------------------------------------------------------------------------------------------------------------------------------------------------------------------------------------------------------------------------------------------------------------------------------------------------------------------------------------------------------------------------------------------------------------------------------------------------------------------------------------------------------------------------------------------------------------------------------------------------------------------------------------------------------------------------------------------------------------------------------------------------------------------------------------------------------------------------------------------------------------------------------------------------------------\n",
      "Query: - Did the company experience any significant fluctuations in revenue throughout the year?  Result:['35 reportable segments fiscal year 2022 compared with fiscal year 2021 productivity and business processes revenue increased $ 9. 4 billion or 18 %. • office commercial products and cloud services revenue increased $ 4. 4 billion or 13 %. office 365 commercial revenue grew 18 % driven by seat growth of 14 %, with continued momentum in small and medium business and frontline worker offerings, as well as growth in revenue per user. office commercial products revenue declined 22 % driven by continued customer shift to cloud offerings. • office consumer products and cloud services revenue increased $ 641 million or 11 % driven by microsoft 365 consumer subscription revenue. microsoft 365 consumer subscribers grew 15 % to 59. 7 million. • linkedin revenue increased $ 3. 5 billion or 34 % driven by a strong job market in our talent solutions business and advertising demand in our marketing solutions business. • dynamics products and cloud services revenue increased 25 % driven by dynamics 365 growth of 39 %. operating income increased $ 5. 3 billion or 22 %. • gross margin increased $ 7. 3 billion or 17 % driven by growth in office 365 commercial and linkedin. gross margin percentage was relatively unchanged. excluding the impact of the change in accounting estimate, gross margin percentage increased 2 points driven by improvement across all cloud services. •', 'other risks. seasonality our revenue fluctuates quarterly and is generally higher in the second and fourth quarters of our fiscal year. second quarter revenue is driven by corporate year - end spending trends in our major markets and holiday season spending by consumers, and fourth quarter revenue is driven by the volume of multi - year on - premises contracts executed during the period. reportable segments we report our financial performance based on the following segments : productivity and business processes, intelligent cloud, and more personal computing. the segment amounts included in md & a are presented on a basis consistent with our internal management reporting. additional information on our reportable segments is contained in note 19 – segment information and geographic data of the notes to financial statements in our fiscal year 2022 form 10 - k. metrics we use metrics in assessing the performance of our business and to make informed decisions regarding the allocation of', '10 stock performance comparison of 5 year cumulative total return * among microsoft corporation, the s & p 500 index and the nasdaq computer index 6 / 17 6 / 18 6 / 19 6 / 20 6 / 21 6 / 22 microsoft corporation 100. 00 145. 84 201. 36 309. 69 416. 25 397. 90 s & p 500 100. 00 114. 37 126. 29 135. 77 191. 15 170. 86 nasdaq computer 100. 00 131. 27 139. 29 196. 40 288. 13 228. 71 * $ 100 invested on 6 / 30 / 17 in stock or index, including reinvestment of dividends. fiscal year ending june 30.', 'for calculating income taxes in an interim period, and the recognition of deferred tax liabilities for outside basis differences related to changes in ownership of equity method investments and foreign subsidiaries. the guidance also simplifies aspects of accounting for franchise taxes and enacted changes in tax laws or rates and clarifies the accounting for transactions that result in a step - up in the tax basis of goodwill. we adopted the standard effective july 1, 2021. adoption of the standard did not have a material impact on our consolidated financial statements. note 2 — earnings per share basic earnings per share ( “ eps ” ) is computed based on the weighted average number of shares of common stock outstanding during the period. diluted eps is computed based on the weighted average number of shares of common stock plus the effect of dilutive potential common shares outstanding during the period using the treasury stock method. dilutive potential common shares include outstanding stock options and stock awards. the components of basic and diluted eps were as follows : ( in millions, except earnings per share ) year ended june 30, 2022 2021 2020 net income available for common shareholders ( a ) $ 72, 738 $ 61, 271 $ 44, 281 weighted average outstanding shares of common stock ( b ) 7, 496 7, 547 7', 'amounts are reasonably possible. were unfavorable final outcomes to occur, there exists the possibility of a material adverse impact in our consolidated financial statements for the period in which the effects become reasonably estimable.']\n",
      "----------------------------------------------------------------------------------------------------------------------------------------------------------------------------------------------------------------------------------------------------------------------------------------------------------------------------------------------------------------------------------------------------------------------------------------------------------------------------------------------------------------------------------------------------------------------------------------------------------------------------------------------------------------------------------------------------------------------------------------------------------------------------------------------------------------------------------------------------------------------------------------------------------------------------------------------------------------------------------------------------------------------------------------\n",
      "Query: - What percentage of the total revenue came from the company's core business operations?  Result:['a percent of revenue 3 % 3 % 0ppt', 'net income and diluted eps of $ 620 million and $ 0. 08, respectively. gross margin and operating income both included an unfavorable foreign currency impact of 2 %. segment results of operations ( in millions, except percentages ) 2022 2021 percentage change revenue productivity and business processes $ 63, 364 $ 53, 915 18 % intelligent cloud 75, 251 60, 080 25 % more personal computing 59, 655 54, 093 10 % total $ 198, 270 $ 168, 088 18 % operating income productivity and business processes $ 29, 687 $ 24, 351 22 % intelligent cloud 32, 721 26, 126 25 % more personal computing 20, 975 19, 439 8 % total $ 83, 383 $ 69, 916 19 %', '82 in addition, certain costs incurred at a corporate level that are identifiable and that benefit our segments are allocated to them. these allocated costs include legal, including settlements and fines, information technology, human resources, finance, excise taxes, field selling, shared facilities services, and customer service and support. each allocation is measured differently based on the specific facts and circumstances of the costs being allocated. segment revenue and operating income were as follows during the periods presented : ( in millions ) year ended june 30, 2022 2021 2020 revenue productivity and business processes $ 63, 364 $ 53, 915 $ 46, 398 intelligent cloud 75, 251 60, 080 48, 366 more personal computing 59, 655 54, 093 48, 251 total $ 198, 270 $ 168, 088 $ 143, 015 operating income productivity and business processes $ 29, 687 $ 24, 351 $ 18, 724 intelligent cloud 32, 721 26, 126 18, 324 more personal computing 20, 975 19, 439 15, 911 total $ 83, 383 $ 69, 916 $ 52, 959 no sales to an individual customer or country other than the united states accounted for more than 10 % of revenue for fiscal years 2022, 2021', 'services, and other windows commercial offerings surface revenue growth revenue from surface devices and accessories xbox content and services revenue growth revenue from xbox content and services, comprising first - and third - party content ( including games and in - game content ), xbox game pass and other subscriptions, xbox cloud gaming, third - party disc royalties, advertising, and other cloud services search and news advertising revenue, excluding tac, growth revenue from search and news advertising excluding traffic acquisition costs ( “ tac ” ) paid to bing ads network publishers and news partners summary results of operations ( in millions, except percentages and per share amounts ) 2022 2021 percentage change revenue $ 198, 270 $ 168, 088 18 % gross margin 135, 620 115, 856 17 % operating income 83, 383 69, 916 19 % net income 72, 738 61, 271 19 % diluted earnings per share 9. 65 8. 05 20 % adjusted net income ( non - gaap ) 69, 447 60, 651 15 % adjusted diluted earnings per share ( non - gaap ) 9. 21 7. 97 16 % adjusted net income and adjusted diluted earnings per share ( “ eps ” ) are non - gaap financial measures which exclude the net income tax benefit related', '47 financial statements and supplementary data income statements ( in millions, except per share amounts ) year ended june 30, 2022 2021 2020 revenue : product $ 72, 732 $ 71, 074 $ 68, 041 service and other 125, 538 97, 014 74, 974 total revenue 198, 270 168, 088 143, 015 cost of revenue : product 19, 064 18, 219 16, 017 service and other 43, 586 34, 013 30, 061 total cost of revenue 62, 650 52, 232 46, 078 gross margin 135, 620 115, 856 96, 937 research and development 24, 512 20, 716 19, 269 sales and marketing 21, 825 20, 117 19, 598 general and administrative 5, 900 5, 107 5, 111 operating income 83, 383 69, 916 52, 959 other income, net 333 1, 186 77 income before income taxes 83, 716 71, 102 53, 036 provision for income taxes 10, 978 9, 831 8, 755 net income $ 72, 738 $ 61, 271 $ 44, 281 earnings per share : basic $ 9. 70 $ 8. 12 $ 5. 82 diluted']\n",
      "----------------------------------------------------------------------------------------------------------------------------------------------------------------------------------------------------------------------------------------------------------------------------------------------------------------------------------------------------------------------------------------------------------------------------------------------------------------------------------------------------------------------------------------------------------------------------------------------------------------------------------------------------------------------------------------------------------------------------------------------------------------------------------------------------------------------------------------------------------------------------------------------------------------------------------------------------------------------------------------------------------------------------------------\n",
      "Query: - Were there any one-time or unusual revenue items that impacted the total revenue for the year?  Result:['50 cash flows statements ( in millions ) year ended june 30, 2022 2021 2020 operations net income $ 72, 738 $ 61, 271 $ 44, 281 adjustments to reconcile net income to net cash from operations : depreciation, amortization, and other 14, 460 11, 686 12, 796 stock - based compensation expense 7, 502 6, 118 5, 289 net recognized gains on investments and derivatives ( 409 ) ( 1, 249 ) ( 219 ) deferred income taxes ( 5, 702 ) ( 150 ) 11 changes in operating assets and liabilities : accounts receivable ( 6, 834 ) ( 6, 481 ) ( 2, 577 ) inventories ( 1, 123 ) ( 737 ) 168 other current assets ( 709 ) ( 932 ) ( 2, 330 ) other long - term assets ( 2, 805 ) ( 3, 459 ) ( 1, 037 ) accounts payable 2, 943 2, 798 3, 018 unearned revenue 5, 109 4, 633 2, 212 income taxes 696 ( 2, 309 ) ( 3, 631 ) other current liabilities 2, 344 4, 149 1, 346 other long - term', 'other risks. seasonality our revenue fluctuates quarterly and is generally higher in the second and fourth quarters of our fiscal year. second quarter revenue is driven by corporate year - end spending trends in our major markets and holiday season spending by consumers, and fourth quarter revenue is driven by the volume of multi - year on - premises contracts executed during the period. reportable segments we report our financial performance based on the following segments : productivity and business processes, intelligent cloud, and more personal computing. the segment amounts included in md & a are presented on a basis consistent with our internal management reporting. additional information on our reportable segments is contained in note 19 – segment information and geographic data of the notes to financial statements in our fiscal year 2022 form 10 - k. metrics we use metrics in assessing the performance of our business and to make informed decisions regarding the allocation of', ', or 2020. revenue, classified by the major geographic areas in which our customers were located, was as follows : ( in millions ) year ended june 30, 2022 2021 2020 united states ( a ) $ 100, 218 $ 83, 953 $ 73, 160 other countries 98, 052 84, 135 69, 855 total $ 198, 270 $ 168, 088 $ 143, 015 ( a ) includes billings to oems and certain multinational organizations because of the nature of these businesses and the impracticability of determining the geographic source of the revenue. revenue, classified by significant product and service offerings, was as follows : ( in millions ) year ended june 30, 2022 2021 2020 server products and cloud services $ 67, 321 $ 52, 589 $ 41, 379 office products and cloud services 44, 862 39, 872 35, 316 windows 24, 761 22, 488 21, 510 gaming 16, 230 15, 370 11, 575 linkedin 13, 816 10, 289 8, 077 search and news advertising 11, 591 9, 267 8, 524 enterprise services 7, 407 6, 943 6, 409 devices 6, 991 6, 791 6, 457', '47 financial statements and supplementary data income statements ( in millions, except per share amounts ) year ended june 30, 2022 2021 2020 revenue : product $ 72, 732 $ 71, 074 $ 68, 041 service and other 125, 538 97, 014 74, 974 total revenue 198, 270 168, 088 143, 015 cost of revenue : product 19, 064 18, 219 16, 017 service and other 43, 586 34, 013 30, 061 total cost of revenue 62, 650 52, 232 46, 078 gross margin 135, 620 115, 856 96, 937 research and development 24, 512 20, 716 19, 269 sales and marketing 21, 825 20, 117 19, 598 general and administrative 5, 900 5, 107 5, 111 operating income 83, 383 69, 916 52, 959 other income, net 333 1, 186 77 income before income taxes 83, 716 71, 102 53, 036 provision for income taxes 10, 978 9, 831 8, 755 net income $ 72, 738 $ 61, 271 $ 44, 281 earnings per share : basic $ 9. 70 $ 8. 12 $ 5. 82 diluted', 'other 5, 291 4, 479 3, 768 total $ 198, 270 $ 168, 088 $ 143, 015 we have recast certain previously reported amounts in the table above to conform to the way we internally manage and monitor our business.']\n",
      "----------------------------------------------------------------------------------------------------------------------------------------------------------------------------------------------------------------------------------------------------------------------------------------------------------------------------------------------------------------------------------------------------------------------------------------------------------------------------------------------------------------------------------------------------------------------------------------------------------------------------------------------------------------------------------------------------------------------------------------------------------------------------------------------------------------------------------------------------------------------------------------------------------------------------------------------------------------------------------------------------------------------------------------\n"
     ]
    }
   ],
   "source": [
    "for i in range(len(joint_query)):\n",
    "    print(f\"Query: {joint_query[i]}  Result:{joint_query_results['documents'][i]}\")\n",
    "    print('-'*1000)"
   ]
  },
  {
   "cell_type": "code",
   "execution_count": 102,
   "metadata": {},
   "outputs": [
    {
     "data": {
      "text/plain": [
       "30"
      ]
     },
     "execution_count": 102,
     "metadata": {},
     "output_type": "execute_result"
    }
   ],
   "source": [
    "#reduce joint query results into single results(flatten-list)\n",
    "joint_query_results_documents= []\n",
    "for sublist in joint_query_results['documents']:\n",
    "    for sub in sublist:\n",
    "        joint_query_results_documents.append(sub)\n",
    "\n",
    "len(joint_query_results_documents)"
   ]
  },
  {
   "cell_type": "code",
   "execution_count": 103,
   "metadata": {},
   "outputs": [],
   "source": [
    "#remove duplicate documents\n",
    "unique_documents = set()\n",
    "for answers in results['documents']:\n",
    "    for answer in answers:\n",
    "        unique_documents.add(answer)\n",
    "unique_documents = list(unique_documents)"
   ]
  },
  {
   "cell_type": "code",
   "execution_count": 104,
   "metadata": {},
   "outputs": [
    {
     "data": {
      "text/plain": [
       "['50 cash flows statements ( in millions ) year ended june 30, 2022 2021 2020 operations net income $ 72, 738 $ 61, 271 $ 44, 281 adjustments to reconcile net income to net cash from operations : depreciation, amortization, and other 14, 460 11, 686 12, 796 stock - based compensation expense 7, 502 6, 118 5, 289 net recognized gains on investments and derivatives ( 409 ) ( 1, 249 ) ( 219 ) deferred income taxes ( 5, 702 ) ( 150 ) 11 changes in operating assets and liabilities : accounts receivable ( 6, 834 ) ( 6, 481 ) ( 2, 577 ) inventories ( 1, 123 ) ( 737 ) 168 other current assets ( 709 ) ( 932 ) ( 2, 330 ) other long - term assets ( 2, 805 ) ( 3, 459 ) ( 1, 037 ) accounts payable 2, 943 2, 798 3, 018 unearned revenue 5, 109 4, 633 2, 212 income taxes 696 ( 2, 309 ) ( 3, 631 ) other current liabilities 2, 344 4, 149 1, 346 other long - term',\n",
       " 'amortization period would have been one year or less. these costs include our internal sales force compensation program and certain partner sales incentive programs as we have determined annual compensation is commensurate with annual sales activities. cost of revenue cost of revenue includes : manufacturing and distribution costs for products sold and programs licensed ; operating costs related to product support service centers and product distribution centers ; costs incurred to include software on pcs sold by original equipment manufacturers ( “ oem ” ), to drive traffic to our websites, and to acquire online',\n",
       " '47 financial statements and supplementary data income statements ( in millions, except per share amounts ) year ended june 30, 2022 2021 2020 revenue : product $ 72, 732 $ 71, 074 $ 68, 041 service and other 125, 538 97, 014 74, 974 total revenue 198, 270 168, 088 143, 015 cost of revenue : product 19, 064 18, 219 16, 017 service and other 43, 586 34, 013 30, 061 total cost of revenue 62, 650 52, 232 46, 078 gross margin 135, 620 115, 856 96, 937 research and development 24, 512 20, 716 19, 269 sales and marketing 21, 825 20, 117 19, 598 general and administrative 5, 900 5, 107 5, 111 operating income 83, 383 69, 916 52, 959 other income, net 333 1, 186 77 income before income taxes 83, 716 71, 102 53, 036 provision for income taxes 10, 978 9, 831 8, 755 net income $ 72, 738 $ 61, 271 $ 44, 281 earnings per share : basic $ 9. 70 $ 8. 12 $ 5. 82 diluted',\n",
       " ', or 2020. revenue, classified by the major geographic areas in which our customers were located, was as follows : ( in millions ) year ended june 30, 2022 2021 2020 united states ( a ) $ 100, 218 $ 83, 953 $ 73, 160 other countries 98, 052 84, 135 69, 855 total $ 198, 270 $ 168, 088 $ 143, 015 ( a ) includes billings to oems and certain multinational organizations because of the nature of these businesses and the impracticability of determining the geographic source of the revenue. revenue, classified by significant product and service offerings, was as follows : ( in millions ) year ended june 30, 2022 2021 2020 server products and cloud services $ 67, 321 $ 52, 589 $ 41, 379 office products and cloud services 44, 862 39, 872 35, 316 windows 24, 761 22, 488 21, 510 gaming 16, 230 15, 370 11, 575 linkedin 13, 816 10, 289 8, 077 search and news advertising 11, 591 9, 267 8, 524 enterprise services 7, 407 6, 943 6, 409 devices 6, 991 6, 791 6, 457',\n",
       " '74 note 13 — unearned revenue unearned revenue by segment was as follows : ( in millions ) june 30, 2022 2021 productivity and business processes $ 24, 558 $ 22, 120 intelligent cloud 19, 371 17, 710 more personal computing 4, 479 4, 311 total $ 48, 408 $ 44, 141 changes in unearned revenue were as follows : ( in millions ) year ended june 30, 2022 balance, beginning of period $ 44, 141 deferral of revenue 110, 455 recognition of unearned revenue ( 106, 188 ) balance, end of period $ 48, 408 revenue allocated to remaining performance obligations, which includes unearned revenue and amounts that will be invoiced and recognized as revenue in future periods, was $ 193 billion as of june 30, 2022, of which $ 189 billion is related to the commercial portion of revenue. we expect to recognize approximately 45 % of this revenue over the next 12 months and the remainder thereafter. note 14 — leases we have operating and finance leases for datacenters, corporate offices, research and development facilities, microsoft experience centers, and certain equipment. our leases have remaining lease terms of 1 year to 19 years, some of which include options to']"
      ]
     },
     "execution_count": 104,
     "metadata": {},
     "output_type": "execute_result"
    }
   ],
   "source": [
    "unique_documents"
   ]
  },
  {
   "cell_type": "code",
   "execution_count": 105,
   "metadata": {},
   "outputs": [
    {
     "data": {
      "text/plain": [
       "278"
      ]
     },
     "execution_count": 105,
     "metadata": {},
     "output_type": "execute_result"
    }
   ],
   "source": [
    "dataset_embeddings = collection.get(include=['embeddings'])['embeddings']\n",
    "len(dataset_embeddings)"
   ]
  },
  {
   "cell_type": "code",
   "execution_count": 106,
   "metadata": {},
   "outputs": [
    {
     "data": {
      "text/plain": [
       "(278, 384)"
      ]
     },
     "execution_count": 106,
     "metadata": {},
     "output_type": "execute_result"
    }
   ],
   "source": [
    "np.array(dataset_embeddings).shape"
   ]
  },
  {
   "cell_type": "code",
   "execution_count": 125,
   "metadata": {},
   "outputs": [],
   "source": [
    "\n",
    "#all embeddings for the joint query\n",
    "joint_query_results_embeddings = joint_query_results['embeddings']\n",
    "\n",
    "#joint_query_results_embeddings = [item for sublist in joint_query_results_embeddings for item in sublist ]\n"
   ]
  },
  {
   "cell_type": "code",
   "execution_count": 126,
   "metadata": {},
   "outputs": [],
   "source": [
    "joint_query_results_embeddings = [item for sublist in joint_query_results_embeddings for item in sublist]\n"
   ]
  },
  {
   "cell_type": "code",
   "execution_count": 127,
   "metadata": {},
   "outputs": [
    {
     "data": {
      "text/plain": [
       "((30, 384), 30)"
      ]
     },
     "execution_count": 127,
     "metadata": {},
     "output_type": "execute_result"
    }
   ],
   "source": [
    "np.array(joint_query_results_embeddings).shape,len(joint_query_results_embeddings)"
   ]
  },
  {
   "cell_type": "code",
   "execution_count": 117,
   "metadata": {},
   "outputs": [
    {
     "name": "stderr",
     "output_type": "stream",
     "text": [
      "/Users/brighttenkorangofori/Desktop/RAG/chroma-exp/lib/python3.9/site-packages/umap/umap_.py:1945: UserWarning: n_jobs value 1 overridden to 1 by setting random_state. Use no seed for parallelism.\n",
      "  warn(f\"n_jobs value {self.n_jobs} overridden to 1 by setting random_state. Use no seed for parallelism.\")\n"
     ]
    }
   ],
   "source": [
    "\n",
    "\n",
    "#projection object\n",
    "umap_transform = umap.UMAP(random_state=0,transform_seed=0).fit(embeddings)\n",
    "#converts original query into embedding\n",
    "single_query_embedding = embedding_fcn(query)\n",
    "\n",
    "project_single_query = project_embeddings(single_query_embedding,umap_transform)\n",
    "\n",
    "#all embeddings for single query\n",
    "single_query_result_embeddings = results['embeddings']\n",
    "\n",
    "#flattened list\n",
    "single_query_result_embeddings = list(itertools.chain.from_iterable(single_query_result_embeddings))\n",
    "\n",
    "#project single query results\n",
    "project_single_query_results = project_embeddings(single_query_result_embeddings,umap_transform)\n"
   ]
  },
  {
   "cell_type": "code",
   "execution_count": 128,
   "metadata": {},
   "outputs": [],
   "source": [
    "joint_query_embeddings = embedding_fcn(joint_query)\n",
    "\n",
    "\n",
    "#project joint queries\n",
    "project_joint_queries = project_embeddings(\n",
    "    joint_query_embeddings, umap_transform)\n",
    "\n",
    "project_joint_query_results_embeddings = project_embeddings(joint_query_results_embeddings,umap_transform)\n"
   ]
  },
  {
   "cell_type": "code",
   "execution_count": 130,
   "metadata": {},
   "outputs": [],
   "source": [
    "import matplotlib.pyplot as plt \n",
    "\n",
    "def plot_projections(projected_dataset_embeddings,\n",
    "                     project_single_query,project_single_query_results,\n",
    "                     project_joint_queries,\n",
    "                     project_joint_query_results_embeddings):\n",
    "    plt.figure()\n",
    "\n",
    "    #plot all embddings in dataset\n",
    "    plt.scatter(\n",
    "        projected_dataset_embeddings[:, 0],\n",
    "        projected_dataset_embeddings[:, 1],\n",
    "        s=10,\n",
    "        color=\"gray\",\n",
    "    )\n",
    "    #plot location of original query\n",
    "    plt.scatter(project_single_query[:,0],project_single_query[:,1],color = 'blue',label = 'original query')\n",
    "\n",
    "    plt.scatter(project_single_query_results[:,0],project_single_query_results[:,1],color = 'black',label = 'original query results')\n",
    "\n",
    "    #plot location of augmented queries\n",
    "    plt.scatter(project_joint_queries[:,0],project_joint_queries[:,1],color = 'red',label = 'augmented queries')\n",
    "\n",
    "    #plot result document location of joint query results \n",
    "    plt.scatter(project_joint_query_results_embeddings[:,0],project_joint_query_results_embeddings[:,1],color = 'green',label = 'augmented query results')\n",
    "\n",
    "    #plot result location of joint query\n",
    "\n",
    "\n",
    "    plt.title('Comparison Of Similarity Search for Naive RAG and Expansion Query RAG in Database')\n",
    "    plt.legend()"
   ]
  },
  {
   "cell_type": "code",
   "execution_count": 133,
   "metadata": {},
   "outputs": [],
   "source": [
    "projected_dataset_embeddings = project_embeddings(embeddings,umap_transform)"
   ]
  },
  {
   "cell_type": "code",
   "execution_count": 134,
   "metadata": {},
   "outputs": [
    {
     "data": {
      "image/png": "[encoded data removed]",
      "text/plain": [
       "<Figure size 640x480 with 1 Axes>"
      ]
     },
     "metadata": {},
     "output_type": "display_data"
    }
   ],
   "source": [
    "plot_projections(projected_dataset_embeddings,\n",
    "                     project_single_query,project_single_query_results,\n",
    "                     project_joint_queries,\n",
    "                     project_joint_query_results_embeddings)"
   ]
  },
  {
   "cell_type": "code",
   "execution_count": 141,
   "metadata": {},
   "outputs": [],
   "source": []
  },
  {
   "cell_type": "code",
   "execution_count": null,
   "metadata": {},
   "outputs": [],
   "source": [
    "from langchain_community.vectorstores import Chroma\n",
    "from langchain.chains import RetrievalQA\n",
    "from langchain_core.vectorstores import VectorStoreRetriever\n",
    "retriever = VectorStoreRetriever(vectorstore=F)\n",
    "llm = OpenAI(api_key=OPENAI_KEY)\n",
    "langchainChroma = Chroma(client = chroma_client,\n",
    "                          collection_name = 'microsoft',\n",
    "                            embedding_function=embedding_fcn,\n",
    "                         persist_directory=database_path)\n",
    "\n",
    "retriever = VectorStoreRetriever('name')\n",
    "\n",
    "qa = RetrievalQA.from_llm(llm=llm, retriever=retriever)\n",
    "\n",
    "\n",
    "query = \"\"\"what is the total profit\"\"\"\n",
    "result = qa.run(query)\n",
    "print(result)"
   ]
  },
  {
   "cell_type": "code",
   "execution_count": 162,
   "metadata": {},
   "outputs": [
    {
     "ename": "AttributeError",
     "evalue": "'SentenceTransformerEmbeddingFunction' object has no attribute 'embed_query'",
     "output_type": "error",
     "traceback": [
      "\u001b[0;31m---------------------------------------------------------------------------\u001b[0m",
      "\u001b[0;31mAttributeError\u001b[0m                            Traceback (most recent call last)",
      "\u001b[1;32m/Users/brighttenkorangofori/Desktop/RAG/Rag/experiment.ipynb Cell 55\u001b[0m line \u001b[0;36m3\n\u001b[1;32m     <a href='vscode-notebook-cell:/Users/brighttenkorangofori/Desktop/RAG/Rag/experiment.ipynb#Y133sZmlsZQ%3D%3D?line=25'>26</a>\u001b[0m question_answer_chain \u001b[39m=\u001b[39m create_stuff_documents_chain(llm, prompt)\n\u001b[1;32m     <a href='vscode-notebook-cell:/Users/brighttenkorangofori/Desktop/RAG/Rag/experiment.ipynb#Y133sZmlsZQ%3D%3D?line=26'>27</a>\u001b[0m chain \u001b[39m=\u001b[39m create_retrieval_chain(retriever, question_answer_chain)\n\u001b[0;32m---> <a href='vscode-notebook-cell:/Users/brighttenkorangofori/Desktop/RAG/Rag/experiment.ipynb#Y133sZmlsZQ%3D%3D?line=29'>30</a>\u001b[0m chain\u001b[39m.\u001b[39;49minvoke({\u001b[39m\"\u001b[39;49m\u001b[39minput\u001b[39;49m\u001b[39m\"\u001b[39;49m: query})\n",
      "File \u001b[0;32m~/Desktop/RAG/chroma-exp/lib/python3.9/site-packages/langchain_core/runnables/base.py:5094\u001b[0m, in \u001b[0;36mRunnableBindingBase.invoke\u001b[0;34m(self, input, config, **kwargs)\u001b[0m\n\u001b[1;32m   5088\u001b[0m \u001b[39mdef\u001b[39;00m \u001b[39minvoke\u001b[39m(\n\u001b[1;32m   5089\u001b[0m     \u001b[39mself\u001b[39m,\n\u001b[1;32m   5090\u001b[0m     \u001b[39minput\u001b[39m: Input,\n\u001b[1;32m   5091\u001b[0m     config: Optional[RunnableConfig] \u001b[39m=\u001b[39m \u001b[39mNone\u001b[39;00m,\n\u001b[1;32m   5092\u001b[0m     \u001b[39m*\u001b[39m\u001b[39m*\u001b[39mkwargs: Optional[Any],\n\u001b[1;32m   5093\u001b[0m ) \u001b[39m-\u001b[39m\u001b[39m>\u001b[39m Output:\n\u001b[0;32m-> 5094\u001b[0m     \u001b[39mreturn\u001b[39;00m \u001b[39mself\u001b[39;49m\u001b[39m.\u001b[39;49mbound\u001b[39m.\u001b[39;49minvoke(\n\u001b[1;32m   5095\u001b[0m         \u001b[39minput\u001b[39;49m,\n\u001b[1;32m   5096\u001b[0m         \u001b[39mself\u001b[39;49m\u001b[39m.\u001b[39;49m_merge_configs(config),\n\u001b[1;32m   5097\u001b[0m         \u001b[39m*\u001b[39;49m\u001b[39m*\u001b[39;49m{\u001b[39m*\u001b[39;49m\u001b[39m*\u001b[39;49m\u001b[39mself\u001b[39;49m\u001b[39m.\u001b[39;49mkwargs, \u001b[39m*\u001b[39;49m\u001b[39m*\u001b[39;49mkwargs},\n\u001b[1;32m   5098\u001b[0m     )\n",
      "File \u001b[0;32m~/Desktop/RAG/chroma-exp/lib/python3.9/site-packages/langchain_core/runnables/base.py:2876\u001b[0m, in \u001b[0;36mRunnableSequence.invoke\u001b[0;34m(self, input, config, **kwargs)\u001b[0m\n\u001b[1;32m   2874\u001b[0m context\u001b[39m.\u001b[39mrun(_set_config_context, config)\n\u001b[1;32m   2875\u001b[0m \u001b[39mif\u001b[39;00m i \u001b[39m==\u001b[39m \u001b[39m0\u001b[39m:\n\u001b[0;32m-> 2876\u001b[0m     \u001b[39minput\u001b[39m \u001b[39m=\u001b[39m context\u001b[39m.\u001b[39;49mrun(step\u001b[39m.\u001b[39;49minvoke, \u001b[39minput\u001b[39;49m, config, \u001b[39m*\u001b[39;49m\u001b[39m*\u001b[39;49mkwargs)\n\u001b[1;32m   2877\u001b[0m \u001b[39melse\u001b[39;00m:\n\u001b[1;32m   2878\u001b[0m     \u001b[39minput\u001b[39m \u001b[39m=\u001b[39m context\u001b[39m.\u001b[39mrun(step\u001b[39m.\u001b[39minvoke, \u001b[39minput\u001b[39m, config)\n",
      "File \u001b[0;32m~/Desktop/RAG/chroma-exp/lib/python3.9/site-packages/langchain_core/runnables/passthrough.py:495\u001b[0m, in \u001b[0;36mRunnableAssign.invoke\u001b[0;34m(self, input, config, **kwargs)\u001b[0m\n\u001b[1;32m    489\u001b[0m \u001b[39mdef\u001b[39;00m \u001b[39minvoke\u001b[39m(\n\u001b[1;32m    490\u001b[0m     \u001b[39mself\u001b[39m,\n\u001b[1;32m    491\u001b[0m     \u001b[39minput\u001b[39m: Dict[\u001b[39mstr\u001b[39m, Any],\n\u001b[1;32m    492\u001b[0m     config: Optional[RunnableConfig] \u001b[39m=\u001b[39m \u001b[39mNone\u001b[39;00m,\n\u001b[1;32m    493\u001b[0m     \u001b[39m*\u001b[39m\u001b[39m*\u001b[39mkwargs: Any,\n\u001b[1;32m    494\u001b[0m ) \u001b[39m-\u001b[39m\u001b[39m>\u001b[39m Dict[\u001b[39mstr\u001b[39m, Any]:\n\u001b[0;32m--> 495\u001b[0m     \u001b[39mreturn\u001b[39;00m \u001b[39mself\u001b[39;49m\u001b[39m.\u001b[39;49m_call_with_config(\u001b[39mself\u001b[39;49m\u001b[39m.\u001b[39;49m_invoke, \u001b[39minput\u001b[39;49m, config, \u001b[39m*\u001b[39;49m\u001b[39m*\u001b[39;49mkwargs)\n",
      "File \u001b[0;32m~/Desktop/RAG/chroma-exp/lib/python3.9/site-packages/langchain_core/runnables/base.py:1785\u001b[0m, in \u001b[0;36mRunnable._call_with_config\u001b[0;34m(self, func, input, config, run_type, **kwargs)\u001b[0m\n\u001b[1;32m   1781\u001b[0m     context \u001b[39m=\u001b[39m copy_context()\n\u001b[1;32m   1782\u001b[0m     context\u001b[39m.\u001b[39mrun(_set_config_context, child_config)\n\u001b[1;32m   1783\u001b[0m     output \u001b[39m=\u001b[39m cast(\n\u001b[1;32m   1784\u001b[0m         Output,\n\u001b[0;32m-> 1785\u001b[0m         context\u001b[39m.\u001b[39;49mrun(\n\u001b[1;32m   1786\u001b[0m             call_func_with_variable_args,  \u001b[39m# type: ignore[arg-type]\u001b[39;49;00m\n\u001b[1;32m   1787\u001b[0m             func,  \u001b[39m# type: ignore[arg-type]\u001b[39;49;00m\n\u001b[1;32m   1788\u001b[0m             \u001b[39minput\u001b[39;49m,  \u001b[39m# type: ignore[arg-type]\u001b[39;49;00m\n\u001b[1;32m   1789\u001b[0m             config,\n\u001b[1;32m   1790\u001b[0m             run_manager,\n\u001b[1;32m   1791\u001b[0m             \u001b[39m*\u001b[39;49m\u001b[39m*\u001b[39;49mkwargs,\n\u001b[1;32m   1792\u001b[0m         ),\n\u001b[1;32m   1793\u001b[0m     )\n\u001b[1;32m   1794\u001b[0m \u001b[39mexcept\u001b[39;00m \u001b[39mBaseException\u001b[39;00m \u001b[39mas\u001b[39;00m e:\n\u001b[1;32m   1795\u001b[0m     run_manager\u001b[39m.\u001b[39mon_chain_error(e)\n",
      "File \u001b[0;32m~/Desktop/RAG/chroma-exp/lib/python3.9/site-packages/langchain_core/runnables/config.py:397\u001b[0m, in \u001b[0;36mcall_func_with_variable_args\u001b[0;34m(func, input, config, run_manager, **kwargs)\u001b[0m\n\u001b[1;32m    395\u001b[0m \u001b[39mif\u001b[39;00m run_manager \u001b[39mis\u001b[39;00m \u001b[39mnot\u001b[39;00m \u001b[39mNone\u001b[39;00m \u001b[39mand\u001b[39;00m accepts_run_manager(func):\n\u001b[1;32m    396\u001b[0m     kwargs[\u001b[39m\"\u001b[39m\u001b[39mrun_manager\u001b[39m\u001b[39m\"\u001b[39m] \u001b[39m=\u001b[39m run_manager\n\u001b[0;32m--> 397\u001b[0m \u001b[39mreturn\u001b[39;00m func(\u001b[39minput\u001b[39;49m, \u001b[39m*\u001b[39;49m\u001b[39m*\u001b[39;49mkwargs)\n",
      "File \u001b[0;32m~/Desktop/RAG/chroma-exp/lib/python3.9/site-packages/langchain_core/runnables/passthrough.py:482\u001b[0m, in \u001b[0;36mRunnableAssign._invoke\u001b[0;34m(self, input, run_manager, config, **kwargs)\u001b[0m\n\u001b[1;32m    469\u001b[0m \u001b[39mdef\u001b[39;00m \u001b[39m_invoke\u001b[39m(\n\u001b[1;32m    470\u001b[0m     \u001b[39mself\u001b[39m,\n\u001b[1;32m    471\u001b[0m     \u001b[39minput\u001b[39m: Dict[\u001b[39mstr\u001b[39m, Any],\n\u001b[0;32m   (...)\u001b[0m\n\u001b[1;32m    474\u001b[0m     \u001b[39m*\u001b[39m\u001b[39m*\u001b[39mkwargs: Any,\n\u001b[1;32m    475\u001b[0m ) \u001b[39m-\u001b[39m\u001b[39m>\u001b[39m Dict[\u001b[39mstr\u001b[39m, Any]:\n\u001b[1;32m    476\u001b[0m     \u001b[39massert\u001b[39;00m \u001b[39misinstance\u001b[39m(\n\u001b[1;32m    477\u001b[0m         \u001b[39minput\u001b[39m, \u001b[39mdict\u001b[39m\n\u001b[1;32m    478\u001b[0m     ), \u001b[39m\"\u001b[39m\u001b[39mThe input to RunnablePassthrough.assign() must be a dict.\u001b[39m\u001b[39m\"\u001b[39m\n\u001b[1;32m    480\u001b[0m     \u001b[39mreturn\u001b[39;00m {\n\u001b[1;32m    481\u001b[0m         \u001b[39m*\u001b[39m\u001b[39m*\u001b[39m\u001b[39minput\u001b[39m,\n\u001b[0;32m--> 482\u001b[0m         \u001b[39m*\u001b[39m\u001b[39m*\u001b[39m\u001b[39mself\u001b[39;49m\u001b[39m.\u001b[39;49mmapper\u001b[39m.\u001b[39;49minvoke(\n\u001b[1;32m    483\u001b[0m             \u001b[39minput\u001b[39;49m,\n\u001b[1;32m    484\u001b[0m             patch_config(config, callbacks\u001b[39m=\u001b[39;49mrun_manager\u001b[39m.\u001b[39;49mget_child()),\n\u001b[1;32m    485\u001b[0m             \u001b[39m*\u001b[39;49m\u001b[39m*\u001b[39;49mkwargs,\n\u001b[1;32m    486\u001b[0m         ),\n\u001b[1;32m    487\u001b[0m     }\n",
      "File \u001b[0;32m~/Desktop/RAG/chroma-exp/lib/python3.9/site-packages/langchain_core/runnables/base.py:3580\u001b[0m, in \u001b[0;36mRunnableParallel.invoke\u001b[0;34m(self, input, config)\u001b[0m\n\u001b[1;32m   3575\u001b[0m     \u001b[39mwith\u001b[39;00m get_executor_for_config(config) \u001b[39mas\u001b[39;00m executor:\n\u001b[1;32m   3576\u001b[0m         futures \u001b[39m=\u001b[39m [\n\u001b[1;32m   3577\u001b[0m             executor\u001b[39m.\u001b[39msubmit(_invoke_step, step, \u001b[39minput\u001b[39m, config, key)\n\u001b[1;32m   3578\u001b[0m             \u001b[39mfor\u001b[39;00m key, step \u001b[39min\u001b[39;00m steps\u001b[39m.\u001b[39mitems()\n\u001b[1;32m   3579\u001b[0m         ]\n\u001b[0;32m-> 3580\u001b[0m         output \u001b[39m=\u001b[39m {key: future\u001b[39m.\u001b[39mresult() \u001b[39mfor\u001b[39;00m key, future \u001b[39min\u001b[39;00m \u001b[39mzip\u001b[39m(steps, futures)}\n\u001b[1;32m   3581\u001b[0m \u001b[39m# finish the root run\u001b[39;00m\n\u001b[1;32m   3582\u001b[0m \u001b[39mexcept\u001b[39;00m \u001b[39mBaseException\u001b[39;00m \u001b[39mas\u001b[39;00m e:\n",
      "File \u001b[0;32m~/Desktop/RAG/chroma-exp/lib/python3.9/site-packages/langchain_core/runnables/base.py:3580\u001b[0m, in \u001b[0;36m<dictcomp>\u001b[0;34m(.0)\u001b[0m\n\u001b[1;32m   3575\u001b[0m     \u001b[39mwith\u001b[39;00m get_executor_for_config(config) \u001b[39mas\u001b[39;00m executor:\n\u001b[1;32m   3576\u001b[0m         futures \u001b[39m=\u001b[39m [\n\u001b[1;32m   3577\u001b[0m             executor\u001b[39m.\u001b[39msubmit(_invoke_step, step, \u001b[39minput\u001b[39m, config, key)\n\u001b[1;32m   3578\u001b[0m             \u001b[39mfor\u001b[39;00m key, step \u001b[39min\u001b[39;00m steps\u001b[39m.\u001b[39mitems()\n\u001b[1;32m   3579\u001b[0m         ]\n\u001b[0;32m-> 3580\u001b[0m         output \u001b[39m=\u001b[39m {key: future\u001b[39m.\u001b[39;49mresult() \u001b[39mfor\u001b[39;00m key, future \u001b[39min\u001b[39;00m \u001b[39mzip\u001b[39m(steps, futures)}\n\u001b[1;32m   3581\u001b[0m \u001b[39m# finish the root run\u001b[39;00m\n\u001b[1;32m   3582\u001b[0m \u001b[39mexcept\u001b[39;00m \u001b[39mBaseException\u001b[39;00m \u001b[39mas\u001b[39;00m e:\n",
      "File \u001b[0;32m/Library/Developer/CommandLineTools/Library/Frameworks/Python3.framework/Versions/3.9/lib/python3.9/concurrent/futures/_base.py:445\u001b[0m, in \u001b[0;36mFuture.result\u001b[0;34m(self, timeout)\u001b[0m\n\u001b[1;32m    443\u001b[0m     \u001b[39mraise\u001b[39;00m CancelledError()\n\u001b[1;32m    444\u001b[0m \u001b[39melif\u001b[39;00m \u001b[39mself\u001b[39m\u001b[39m.\u001b[39m_state \u001b[39m==\u001b[39m FINISHED:\n\u001b[0;32m--> 445\u001b[0m     \u001b[39mreturn\u001b[39;00m \u001b[39mself\u001b[39;49m\u001b[39m.\u001b[39;49m__get_result()\n\u001b[1;32m    446\u001b[0m \u001b[39melse\u001b[39;00m:\n\u001b[1;32m    447\u001b[0m     \u001b[39mraise\u001b[39;00m \u001b[39mTimeoutError\u001b[39;00m()\n",
      "File \u001b[0;32m/Library/Developer/CommandLineTools/Library/Frameworks/Python3.framework/Versions/3.9/lib/python3.9/concurrent/futures/_base.py:390\u001b[0m, in \u001b[0;36mFuture.__get_result\u001b[0;34m(self)\u001b[0m\n\u001b[1;32m    388\u001b[0m \u001b[39mif\u001b[39;00m \u001b[39mself\u001b[39m\u001b[39m.\u001b[39m_exception:\n\u001b[1;32m    389\u001b[0m     \u001b[39mtry\u001b[39;00m:\n\u001b[0;32m--> 390\u001b[0m         \u001b[39mraise\u001b[39;00m \u001b[39mself\u001b[39m\u001b[39m.\u001b[39m_exception\n\u001b[1;32m    391\u001b[0m     \u001b[39mfinally\u001b[39;00m:\n\u001b[1;32m    392\u001b[0m         \u001b[39m# Break a reference cycle with the exception in self._exception\u001b[39;00m\n\u001b[1;32m    393\u001b[0m         \u001b[39mself\u001b[39m \u001b[39m=\u001b[39m \u001b[39mNone\u001b[39;00m\n",
      "File \u001b[0;32m/Library/Developer/CommandLineTools/Library/Frameworks/Python3.framework/Versions/3.9/lib/python3.9/concurrent/futures/thread.py:52\u001b[0m, in \u001b[0;36m_WorkItem.run\u001b[0;34m(self)\u001b[0m\n\u001b[1;32m     49\u001b[0m     \u001b[39mreturn\u001b[39;00m\n\u001b[1;32m     51\u001b[0m \u001b[39mtry\u001b[39;00m:\n\u001b[0;32m---> 52\u001b[0m     result \u001b[39m=\u001b[39m \u001b[39mself\u001b[39;49m\u001b[39m.\u001b[39;49mfn(\u001b[39m*\u001b[39;49m\u001b[39mself\u001b[39;49m\u001b[39m.\u001b[39;49margs, \u001b[39m*\u001b[39;49m\u001b[39m*\u001b[39;49m\u001b[39mself\u001b[39;49m\u001b[39m.\u001b[39;49mkwargs)\n\u001b[1;32m     53\u001b[0m \u001b[39mexcept\u001b[39;00m \u001b[39mBaseException\u001b[39;00m \u001b[39mas\u001b[39;00m exc:\n\u001b[1;32m     54\u001b[0m     \u001b[39mself\u001b[39m\u001b[39m.\u001b[39mfuture\u001b[39m.\u001b[39mset_exception(exc)\n",
      "File \u001b[0;32m~/Desktop/RAG/chroma-exp/lib/python3.9/site-packages/langchain_core/runnables/base.py:3564\u001b[0m, in \u001b[0;36mRunnableParallel.invoke.<locals>._invoke_step\u001b[0;34m(step, input, config, key)\u001b[0m\n\u001b[1;32m   3562\u001b[0m context \u001b[39m=\u001b[39m copy_context()\n\u001b[1;32m   3563\u001b[0m context\u001b[39m.\u001b[39mrun(_set_config_context, child_config)\n\u001b[0;32m-> 3564\u001b[0m \u001b[39mreturn\u001b[39;00m context\u001b[39m.\u001b[39;49mrun(\n\u001b[1;32m   3565\u001b[0m     step\u001b[39m.\u001b[39;49minvoke,\n\u001b[1;32m   3566\u001b[0m     \u001b[39minput\u001b[39;49m,\n\u001b[1;32m   3567\u001b[0m     child_config,\n\u001b[1;32m   3568\u001b[0m )\n",
      "File \u001b[0;32m~/Desktop/RAG/chroma-exp/lib/python3.9/site-packages/langchain_core/runnables/base.py:5094\u001b[0m, in \u001b[0;36mRunnableBindingBase.invoke\u001b[0;34m(self, input, config, **kwargs)\u001b[0m\n\u001b[1;32m   5088\u001b[0m \u001b[39mdef\u001b[39;00m \u001b[39minvoke\u001b[39m(\n\u001b[1;32m   5089\u001b[0m     \u001b[39mself\u001b[39m,\n\u001b[1;32m   5090\u001b[0m     \u001b[39minput\u001b[39m: Input,\n\u001b[1;32m   5091\u001b[0m     config: Optional[RunnableConfig] \u001b[39m=\u001b[39m \u001b[39mNone\u001b[39;00m,\n\u001b[1;32m   5092\u001b[0m     \u001b[39m*\u001b[39m\u001b[39m*\u001b[39mkwargs: Optional[Any],\n\u001b[1;32m   5093\u001b[0m ) \u001b[39m-\u001b[39m\u001b[39m>\u001b[39m Output:\n\u001b[0;32m-> 5094\u001b[0m     \u001b[39mreturn\u001b[39;00m \u001b[39mself\u001b[39;49m\u001b[39m.\u001b[39;49mbound\u001b[39m.\u001b[39;49minvoke(\n\u001b[1;32m   5095\u001b[0m         \u001b[39minput\u001b[39;49m,\n\u001b[1;32m   5096\u001b[0m         \u001b[39mself\u001b[39;49m\u001b[39m.\u001b[39;49m_merge_configs(config),\n\u001b[1;32m   5097\u001b[0m         \u001b[39m*\u001b[39;49m\u001b[39m*\u001b[39;49m{\u001b[39m*\u001b[39;49m\u001b[39m*\u001b[39;49m\u001b[39mself\u001b[39;49m\u001b[39m.\u001b[39;49mkwargs, \u001b[39m*\u001b[39;49m\u001b[39m*\u001b[39;49mkwargs},\n\u001b[1;32m   5098\u001b[0m     )\n",
      "File \u001b[0;32m~/Desktop/RAG/chroma-exp/lib/python3.9/site-packages/langchain_core/runnables/base.py:2878\u001b[0m, in \u001b[0;36mRunnableSequence.invoke\u001b[0;34m(self, input, config, **kwargs)\u001b[0m\n\u001b[1;32m   2876\u001b[0m             \u001b[39minput\u001b[39m \u001b[39m=\u001b[39m context\u001b[39m.\u001b[39mrun(step\u001b[39m.\u001b[39minvoke, \u001b[39minput\u001b[39m, config, \u001b[39m*\u001b[39m\u001b[39m*\u001b[39mkwargs)\n\u001b[1;32m   2877\u001b[0m         \u001b[39melse\u001b[39;00m:\n\u001b[0;32m-> 2878\u001b[0m             \u001b[39minput\u001b[39m \u001b[39m=\u001b[39m context\u001b[39m.\u001b[39;49mrun(step\u001b[39m.\u001b[39;49minvoke, \u001b[39minput\u001b[39;49m, config)\n\u001b[1;32m   2879\u001b[0m \u001b[39m# finish the root run\u001b[39;00m\n\u001b[1;32m   2880\u001b[0m \u001b[39mexcept\u001b[39;00m \u001b[39mBaseException\u001b[39;00m \u001b[39mas\u001b[39;00m e:\n",
      "File \u001b[0;32m~/Desktop/RAG/chroma-exp/lib/python3.9/site-packages/langchain_core/retrievers.py:251\u001b[0m, in \u001b[0;36mBaseRetriever.invoke\u001b[0;34m(self, input, config, **kwargs)\u001b[0m\n\u001b[1;32m    249\u001b[0m \u001b[39mexcept\u001b[39;00m \u001b[39mException\u001b[39;00m \u001b[39mas\u001b[39;00m e:\n\u001b[1;32m    250\u001b[0m     run_manager\u001b[39m.\u001b[39mon_retriever_error(e)\n\u001b[0;32m--> 251\u001b[0m     \u001b[39mraise\u001b[39;00m e\n\u001b[1;32m    252\u001b[0m \u001b[39melse\u001b[39;00m:\n\u001b[1;32m    253\u001b[0m     run_manager\u001b[39m.\u001b[39mon_retriever_end(\n\u001b[1;32m    254\u001b[0m         result,\n\u001b[1;32m    255\u001b[0m     )\n",
      "File \u001b[0;32m~/Desktop/RAG/chroma-exp/lib/python3.9/site-packages/langchain_core/retrievers.py:244\u001b[0m, in \u001b[0;36mBaseRetriever.invoke\u001b[0;34m(self, input, config, **kwargs)\u001b[0m\n\u001b[1;32m    242\u001b[0m _kwargs \u001b[39m=\u001b[39m kwargs \u001b[39mif\u001b[39;00m \u001b[39mself\u001b[39m\u001b[39m.\u001b[39m_expects_other_args \u001b[39melse\u001b[39;00m {}\n\u001b[1;32m    243\u001b[0m \u001b[39mif\u001b[39;00m \u001b[39mself\u001b[39m\u001b[39m.\u001b[39m_new_arg_supported:\n\u001b[0;32m--> 244\u001b[0m     result \u001b[39m=\u001b[39m \u001b[39mself\u001b[39;49m\u001b[39m.\u001b[39;49m_get_relevant_documents(\n\u001b[1;32m    245\u001b[0m         \u001b[39minput\u001b[39;49m, run_manager\u001b[39m=\u001b[39;49mrun_manager, \u001b[39m*\u001b[39;49m\u001b[39m*\u001b[39;49m_kwargs\n\u001b[1;32m    246\u001b[0m     )\n\u001b[1;32m    247\u001b[0m \u001b[39melse\u001b[39;00m:\n\u001b[1;32m    248\u001b[0m     result \u001b[39m=\u001b[39m \u001b[39mself\u001b[39m\u001b[39m.\u001b[39m_get_relevant_documents(\u001b[39minput\u001b[39m, \u001b[39m*\u001b[39m\u001b[39m*\u001b[39m_kwargs)\n",
      "File \u001b[0;32m~/Desktop/RAG/chroma-exp/lib/python3.9/site-packages/langchain_core/vectorstores/base.py:1040\u001b[0m, in \u001b[0;36mVectorStoreRetriever._get_relevant_documents\u001b[0;34m(self, query, run_manager)\u001b[0m\n\u001b[1;32m   1036\u001b[0m \u001b[39mdef\u001b[39;00m \u001b[39m_get_relevant_documents\u001b[39m(\n\u001b[1;32m   1037\u001b[0m     \u001b[39mself\u001b[39m, query: \u001b[39mstr\u001b[39m, \u001b[39m*\u001b[39m, run_manager: CallbackManagerForRetrieverRun\n\u001b[1;32m   1038\u001b[0m ) \u001b[39m-\u001b[39m\u001b[39m>\u001b[39m List[Document]:\n\u001b[1;32m   1039\u001b[0m     \u001b[39mif\u001b[39;00m \u001b[39mself\u001b[39m\u001b[39m.\u001b[39msearch_type \u001b[39m==\u001b[39m \u001b[39m\"\u001b[39m\u001b[39msimilarity\u001b[39m\u001b[39m\"\u001b[39m:\n\u001b[0;32m-> 1040\u001b[0m         docs \u001b[39m=\u001b[39m \u001b[39mself\u001b[39;49m\u001b[39m.\u001b[39;49mvectorstore\u001b[39m.\u001b[39;49msimilarity_search(query, \u001b[39m*\u001b[39;49m\u001b[39m*\u001b[39;49m\u001b[39mself\u001b[39;49m\u001b[39m.\u001b[39;49msearch_kwargs)\n\u001b[1;32m   1041\u001b[0m     \u001b[39melif\u001b[39;00m \u001b[39mself\u001b[39m\u001b[39m.\u001b[39msearch_type \u001b[39m==\u001b[39m \u001b[39m\"\u001b[39m\u001b[39msimilarity_score_threshold\u001b[39m\u001b[39m\"\u001b[39m:\n\u001b[1;32m   1042\u001b[0m         docs_and_similarities \u001b[39m=\u001b[39m (\n\u001b[1;32m   1043\u001b[0m             \u001b[39mself\u001b[39m\u001b[39m.\u001b[39mvectorstore\u001b[39m.\u001b[39msimilarity_search_with_relevance_scores(\n\u001b[1;32m   1044\u001b[0m                 query, \u001b[39m*\u001b[39m\u001b[39m*\u001b[39m\u001b[39mself\u001b[39m\u001b[39m.\u001b[39msearch_kwargs\n\u001b[1;32m   1045\u001b[0m             )\n\u001b[1;32m   1046\u001b[0m         )\n",
      "File \u001b[0;32m~/Desktop/RAG/chroma-exp/lib/python3.9/site-packages/langchain_community/vectorstores/chroma.py:350\u001b[0m, in \u001b[0;36mChroma.similarity_search\u001b[0;34m(self, query, k, filter, **kwargs)\u001b[0m\n\u001b[1;32m    333\u001b[0m \u001b[39mdef\u001b[39;00m \u001b[39msimilarity_search\u001b[39m(\n\u001b[1;32m    334\u001b[0m     \u001b[39mself\u001b[39m,\n\u001b[1;32m    335\u001b[0m     query: \u001b[39mstr\u001b[39m,\n\u001b[0;32m   (...)\u001b[0m\n\u001b[1;32m    338\u001b[0m     \u001b[39m*\u001b[39m\u001b[39m*\u001b[39mkwargs: Any,\n\u001b[1;32m    339\u001b[0m ) \u001b[39m-\u001b[39m\u001b[39m>\u001b[39m List[Document]:\n\u001b[1;32m    340\u001b[0m \u001b[39m    \u001b[39m\u001b[39m\"\"\"Run similarity search with Chroma.\u001b[39;00m\n\u001b[1;32m    341\u001b[0m \n\u001b[1;32m    342\u001b[0m \u001b[39m    Args:\u001b[39;00m\n\u001b[0;32m   (...)\u001b[0m\n\u001b[1;32m    348\u001b[0m \u001b[39m        List[Document]: List of documents most similar to the query text.\u001b[39;00m\n\u001b[1;32m    349\u001b[0m \u001b[39m    \"\"\"\u001b[39;00m\n\u001b[0;32m--> 350\u001b[0m     docs_and_scores \u001b[39m=\u001b[39m \u001b[39mself\u001b[39;49m\u001b[39m.\u001b[39;49msimilarity_search_with_score(\n\u001b[1;32m    351\u001b[0m         query, k, \u001b[39mfilter\u001b[39;49m\u001b[39m=\u001b[39;49m\u001b[39mfilter\u001b[39;49m, \u001b[39m*\u001b[39;49m\u001b[39m*\u001b[39;49mkwargs\n\u001b[1;32m    352\u001b[0m     )\n\u001b[1;32m    353\u001b[0m     \u001b[39mreturn\u001b[39;00m [doc \u001b[39mfor\u001b[39;00m doc, _ \u001b[39min\u001b[39;00m docs_and_scores]\n",
      "File \u001b[0;32m~/Desktop/RAG/chroma-exp/lib/python3.9/site-packages/langchain_community/vectorstores/chroma.py:439\u001b[0m, in \u001b[0;36mChroma.similarity_search_with_score\u001b[0;34m(self, query, k, filter, where_document, **kwargs)\u001b[0m\n\u001b[1;32m    431\u001b[0m     results \u001b[39m=\u001b[39m \u001b[39mself\u001b[39m\u001b[39m.\u001b[39m__query_collection(\n\u001b[1;32m    432\u001b[0m         query_texts\u001b[39m=\u001b[39m[query],\n\u001b[1;32m    433\u001b[0m         n_results\u001b[39m=\u001b[39mk,\n\u001b[0;32m   (...)\u001b[0m\n\u001b[1;32m    436\u001b[0m         \u001b[39m*\u001b[39m\u001b[39m*\u001b[39mkwargs,\n\u001b[1;32m    437\u001b[0m     )\n\u001b[1;32m    438\u001b[0m \u001b[39melse\u001b[39;00m:\n\u001b[0;32m--> 439\u001b[0m     query_embedding \u001b[39m=\u001b[39m \u001b[39mself\u001b[39;49m\u001b[39m.\u001b[39;49m_embedding_function\u001b[39m.\u001b[39;49membed_query(query)\n\u001b[1;32m    440\u001b[0m     results \u001b[39m=\u001b[39m \u001b[39mself\u001b[39m\u001b[39m.\u001b[39m__query_collection(\n\u001b[1;32m    441\u001b[0m         query_embeddings\u001b[39m=\u001b[39m[query_embedding],\n\u001b[1;32m    442\u001b[0m         n_results\u001b[39m=\u001b[39mk,\n\u001b[0;32m   (...)\u001b[0m\n\u001b[1;32m    445\u001b[0m         \u001b[39m*\u001b[39m\u001b[39m*\u001b[39mkwargs,\n\u001b[1;32m    446\u001b[0m     )\n\u001b[1;32m    448\u001b[0m \u001b[39mreturn\u001b[39;00m _results_to_docs_and_scores(results)\n",
      "\u001b[0;31mAttributeError\u001b[0m: 'SentenceTransformerEmbeddingFunction' object has no attribute 'embed_query'"
     ]
    }
   ],
   "source": [
    "from langchain.chains import create_retrieval_chain\n",
    "from langchain.chains.combine_documents import create_stuff_documents_chain\n",
    "from langchain_core.prompts import ChatPromptTemplate\n",
    "from langchain_community.vectorstores import Chroma\n",
    "from langchain_openai import ChatOpenAI\n",
    "from langchain.embeddings import OpenAIEmbeddings\n",
    "\n",
    "chroma_db = Chroma(collection_name='microsoft',\n",
    "                   embedding_function= embedding_fcn,\n",
    "                   persist_directory=database_path)\n",
    "retriever = chroma_db.as_retriever()  # Your retriever\n",
    "llm = ChatOpenAI()\n",
    "\n",
    "system_prompt = (\n",
    "    \"Use the given context to answer the question. \"\n",
    "    \"If you don't know the answer, say you don't know. \"\n",
    "    \"Use three sentence maximum and keep the answer concise. \"\n",
    "    \"Context: {context}\"\n",
    ")\n",
    "prompt = ChatPromptTemplate.from_messages(\n",
    "    [\n",
    "        (\"system\", system_prompt),\n",
    "        (\"human\", \"{input}\"),\n",
    "    ]\n",
    ")\n",
    "question_answer_chain = create_stuff_documents_chain(llm, prompt)\n",
    "chain = create_retrieval_chain(retriever, question_answer_chain)\n",
    "\n",
    "\n",
    "chain.invoke({\"input\": query})"
   ]
  },
  {
   "cell_type": "code",
   "execution_count": 171,
   "metadata": {},
   "outputs": [],
   "source": [
    "#from torch.utils. import pairwise\n",
    "def naive_rag_search(query,client,collection,embeddings):\n",
    "\n",
    "    umap_transform = umap.UMAP(random_state=0,transform_seed=0).fit(embeddings)\n",
    "\n",
    "    results = collection.query(query_texts=query,n_results=5,include=['embeddings','documents'])\n",
    "    context = results['documents']\n",
    "    \n",
    "    single_query_embedding = embedding_fcn([query])\n",
    "    result_embeddings = results['embeddings']\n",
    "    result_embeddings = [ item for sublist in result_embeddings for item in sublist ]\n",
    "    \n",
    "    \n",
    "    #project single query results\n",
    "    project_single_query_results = project_embeddings(result_embeddings,umap_transform)\n",
    "    project_single_query = project_embeddings(single_query_embedding,umap_transform)\n",
    "    \n",
    "\n",
    "    system_content = f\"\"\"\n",
    "    You are a knowledgeable financial research assistant. \n",
    "    Your users are inquiring about an annual report. \n",
    "    For the given question,   assist them in finding the information they need. \n",
    "    Provide concisw answers based on {context} \n",
    "    Ensure the answer is complete and directly related to the original {query}. \n",
    "    \n",
    "    \"\"\"\n",
    "   \n",
    "\n",
    "\n",
    "    answer = get_openai_response(user_content=query,\n",
    "                                 model = 'gpt-3.5-turbo',\n",
    "                                 system_content=system_content,\n",
    "                                 client = client,\n",
    "                                 temperature=0.5)\n",
    "    \n",
    "    \n",
    "    return answer\n",
    "    \n",
    "    \n",
    "\n",
    "\n",
    "\n",
    "\n"
   ]
  },
  {
   "cell_type": "code",
   "execution_count": 172,
   "metadata": {},
   "outputs": [
    {
     "name": "stderr",
     "output_type": "stream",
     "text": [
      "/Users/brighttenkorangofori/Desktop/RAG/chroma-exp/lib/python3.9/site-packages/umap/umap_.py:1945: UserWarning: n_jobs value 1 overridden to 1 by setting random_state. Use no seed for parallelism.\n",
      "  warn(f\"n_jobs value {self.n_jobs} overridden to 1 by setting random_state. Use no seed for parallelism.\")\n"
     ]
    }
   ],
   "source": []
  },
  {
   "cell_type": "code",
   "execution_count": 176,
   "metadata": {},
   "outputs": [
    {
     "data": {
      "text/plain": [
       "['The total revenue for the year is $198,270',\n",
       " 'million. This represents an 18% increase compared',\n",
       " \"to last year's total revenue of $168,088 million.\"]"
      ]
     },
     "execution_count": 176,
     "metadata": {},
     "output_type": "execute_result"
    }
   ],
   "source": [
    "from textwrap3 import TextWrapper\n",
    "\n",
    "answer = naive_rag_search(query,client,collection,embeddings)\n",
    "text_wrapper = TextWrapper(width= 50)\n",
    "\n",
    "text_wrapper.wrap(answer)"
   ]
  },
  {
   "cell_type": "code",
   "execution_count": 227,
   "metadata": {},
   "outputs": [],
   "source": [
    "#from torch.utils. import pairwise\n",
    "def expansion_rag_search(query,client,collection,embeddings):\n",
    "\n",
    "    umap_transform = umap.UMAP(random_state=0,transform_seed=0).fit(embeddings)\n",
    "    generated_queries = supplement_queries(query,client,5)\n",
    "    generated_queries = generated_queries.splitlines(keepends=False)\n",
    "\n",
    "    joint_queries = [query] + generated_queries\n",
    "    \n",
    "    results = collection.query(query_texts=joint_query,n_results=5,include=['embeddings','documents'])\n",
    "    \n",
    "    context = results['documents']\n",
    "    #print(len(context))\n",
    "    \n",
    "    context = [item for sublist in context for item in sublist ]\n",
    "    #print(f'new context:{len(context)}')\n",
    "    unique_context = set(context)\n",
    "\n",
    "    \n",
    "\n",
    "    query_embeddings = embedding_fcn(joint_queries)\n",
    "\n",
    "\n",
    "    result_embeddings = results['embeddings']\n",
    "    result_embeddings = [ item for sublist in result_embeddings for item in sublist ]\n",
    "    unique_context_embeddings = embedding_fcn(unique_context)\n",
    "\n",
    "    print(len(result_embeddings))\n",
    "    print(np.array(unique_context_embeddings).shape)\n",
    "    #result_embeddings = set(result_embeddings)\n",
    "    \n",
    "    #project single query results\n",
    "    project_query_results = project_embeddings(unique_context_embeddings,umap_transform)\n",
    "    project_query = project_embeddings(query_embeddings,umap_transform)\n",
    "    print(joint_queries)\n",
    "\n",
    "    system_content = f\"\"\"\n",
    "    You are a knowledgeable financial research assistant. \n",
    "    Your users are inquiring about an annual report. \n",
    "    For the given question,  provide  answers to assist them in finding the information they need. \n",
    "    Provide concise answers based on {unique_context} \n",
    "    Ensure the answer is complete and directly related to the original {joint_queries}. \n",
    "    \n",
    "    \"\"\"\n",
    "   \n",
    "\n",
    "    joint_query_text = ' '.join(joint_queries)\n",
    "    print(joint_query_text)\n",
    "    answer = get_openai_response(user_content=joint_query_text,\n",
    "                                 model = 'gpt-3.5-turbo',\n",
    "                                 system_content=system_content,\n",
    "                                 client = client,\n",
    "                                 temperature=0.5)\n",
    "    \n",
    "    \n",
    "    return answer"
   ]
  },
  {
   "cell_type": "code",
   "execution_count": 228,
   "metadata": {},
   "outputs": [
    {
     "name": "stderr",
     "output_type": "stream",
     "text": [
      "/Users/brighttenkorangofori/Desktop/RAG/chroma-exp/lib/python3.9/site-packages/umap/umap_.py:1945: UserWarning: n_jobs value 1 overridden to 1 by setting random_state. Use no seed for parallelism.\n",
      "  warn(f\"n_jobs value {self.n_jobs} overridden to 1 by setting random_state. Use no seed for parallelism.\")\n"
     ]
    },
    {
     "name": "stdout",
     "output_type": "stream",
     "text": [
      "30\n",
      "(17, 384)\n",
      "['what is the total revenue for the year and as compared to last year', \"- What is the total revenue reported in the current year's annual report?\", \"- How does the total revenue in the current year's annual report compare to the total revenue reported in the previous year's annual report?\", '- What factors contributed to the changes in total revenue from the previous year to the current year?', '- Are there any significant fluctuations in revenue streams or sources between the current year and the previous year?', \"- How has the company's overall financial performance been impacted by the changes in total revenue from the previous year to the current year?\"]\n",
      "what is the total revenue for the year and as compared to last year - What is the total revenue reported in the current year's annual report? - How does the total revenue in the current year's annual report compare to the total revenue reported in the previous year's annual report? - What factors contributed to the changes in total revenue from the previous year to the current year? - Are there any significant fluctuations in revenue streams or sources between the current year and the previous year? - How has the company's overall financial performance been impacted by the changes in total revenue from the previous year to the current year?\n"
     ]
    }
   ],
   "source": [
    "answer2 = expansion_rag_search(query,client,collection,embeddings)\n"
   ]
  },
  {
   "cell_type": "code",
   "execution_count": 229,
   "metadata": {},
   "outputs": [
    {
     "data": {
      "text/plain": [
       "([\"The total revenue reported in the current year's\",\n",
       "  'annual report is $198,270 million. This represents',\n",
       "  'an increase of $30.2 billion or 18% compared to',\n",
       "  \"the total revenue reported in the previous year's\",\n",
       "  'annual report of $168,088 million. The significant',\n",
       "  'factors contributing to this change include growth',\n",
       "  'across all segments, with intelligent cloud',\n",
       "  'revenue driven by Azure and other cloud services,',\n",
       "  'productivity and business processes revenue driven',\n",
       "  'by office 365 commercial and linkedin, and more',\n",
       "  'personal computing revenue driven by search and',\n",
       "  'news advertising and windows. There were no',\n",
       "  'significant fluctuations in revenue streams or',\n",
       "  'sources between the current year and the previous',\n",
       "  \"year. Overall, the company's financial performance\",\n",
       "  'has been positively impacted by the increase in',\n",
       "  'total revenue, leading to a 19% increase in',\n",
       "  'operating income and a 19% increase in net income',\n",
       "  'compared to the previous year.'],\n",
       " ['The total revenue for the year is $198,270',\n",
       "  'million. This represents an 18% increase compared',\n",
       "  \"to last year's total revenue of $168,088 million.\"])"
      ]
     },
     "execution_count": 229,
     "metadata": {},
     "output_type": "execute_result"
    }
   ],
   "source": [
    "text_wrapper.wrap(answer2),text_wrapper.wrap(answer)\n",
    "\n",
    "\n"
   ]
  }
 ],
 "metadata": {
  "kernelspec": {
   "display_name": "chroma-exp",
   "language": "python",
   "name": "python3"
  },
  "language_info": {
   "codemirror_mode": {
    "name": "ipython",
    "version": 3
   },
   "file_extension": ".py",
   "mimetype": "text/x-python",
   "name": "python",
   "nbconvert_exporter": "python",
   "pygments_lexer": "ipython3",
   "version": "3.9.6"
  }
 },
 "nbformat": 4,
 "nbformat_minor": 2
}
